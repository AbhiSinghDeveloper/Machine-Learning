{
  "nbformat": 4,
  "nbformat_minor": 0,
  "metadata": {
    "colab": {
      "name": "Untitled10.ipynb",
      "provenance": [],
      "authorship_tag": "ABX9TyNKUGWMeQ6VLAYiKhe1ZB7m",
      "include_colab_link": true
    },
    "kernelspec": {
      "name": "python3",
      "display_name": "Python 3"
    },
    "accelerator": "TPU"
  },
  "cells": [
    {
      "cell_type": "markdown",
      "metadata": {
        "id": "view-in-github",
        "colab_type": "text"
      },
      "source": [
        "<a href=\"https://colab.research.google.com/github/AbhiSinghDeveloper/Machine-Learning/blob/master/Basics_of_%20Numpy_and_Pandas.ipynb\" target=\"_parent\"><img src=\"https://colab.research.google.com/assets/colab-badge.svg\" alt=\"Open In Colab\"/></a>"
      ]
    },
    {
      "cell_type": "code",
      "metadata": {
        "id": "UqphdVAIP6s2",
        "colab_type": "code",
        "outputId": "36269035-7d9a-4fac-9ee2-720676efdd8c",
        "colab": {
          "base_uri": "https://localhost:8080/",
          "height": 55
        }
      },
      "source": [
        "pip install numpy"
      ],
      "execution_count": 0,
      "outputs": [
        {
          "output_type": "stream",
          "text": [
            "Requirement already satisfied: numpy in /usr/local/lib/python3.6/dist-packages (1.18.2)\n"
          ],
          "name": "stdout"
        }
      ]
    },
    {
      "cell_type": "code",
      "metadata": {
        "id": "tuHzh1kVQLiv",
        "colab_type": "code",
        "outputId": "f3026606-5727-4fc0-8263-4d6f3bccc4c0",
        "colab": {
          "base_uri": "https://localhost:8080/",
          "height": 35
        }
      },
      "source": [
        "pwd"
      ],
      "execution_count": 0,
      "outputs": [
        {
          "output_type": "execute_result",
          "data": {
            "text/plain": [
              "'/content'"
            ]
          },
          "metadata": {
            "tags": []
          },
          "execution_count": 2
        }
      ]
    },
    {
      "cell_type": "code",
      "metadata": {
        "id": "5CK7Zgj8QRip",
        "colab_type": "code",
        "colab": {}
      },
      "source": [
        "import numpy as np"
      ],
      "execution_count": 0,
      "outputs": []
    },
    {
      "cell_type": "code",
      "metadata": {
        "id": "eG4s-HCgQhd9",
        "colab_type": "code",
        "outputId": "994ed41e-ae79-4fa5-b0b6-016f897cb7c8",
        "colab": {
          "base_uri": "https://localhost:8080/",
          "height": 35
        }
      },
      "source": [
        "#The basics :- 1d Array\n",
        "\n",
        "a = np.array([1,2,3],dtype = 'int8')\n",
        "print(a)"
      ],
      "execution_count": 0,
      "outputs": [
        {
          "output_type": "stream",
          "text": [
            "[1 2 3]\n"
          ],
          "name": "stdout"
        }
      ]
    },
    {
      "cell_type": "code",
      "metadata": {
        "id": "OwjKOHjtQySe",
        "colab_type": "code",
        "outputId": "f1ea975d-5329-4cbc-8ca7-5d53424f3689",
        "colab": {
          "base_uri": "https://localhost:8080/",
          "height": 52
        }
      },
      "source": [
        "#The basics :- 2d Array\n",
        "\n",
        "b = np.array([[1,2,3],[4,5,6]])\n",
        "print(b)"
      ],
      "execution_count": 0,
      "outputs": [
        {
          "output_type": "stream",
          "text": [
            "[[1 2 3]\n",
            " [4 5 6]]\n"
          ],
          "name": "stdout"
        }
      ]
    },
    {
      "cell_type": "code",
      "metadata": {
        "id": "PbrKp2HVRKp1",
        "colab_type": "code",
        "outputId": "3c7cf80f-d333-428d-85a7-7f843d185b1e",
        "colab": {
          "base_uri": "https://localhost:8080/",
          "height": 35
        }
      },
      "source": [
        "#To know the dimension\n",
        "\n",
        "b.ndim"
      ],
      "execution_count": 0,
      "outputs": [
        {
          "output_type": "execute_result",
          "data": {
            "text/plain": [
              "2"
            ]
          },
          "metadata": {
            "tags": []
          },
          "execution_count": 16
        }
      ]
    },
    {
      "cell_type": "code",
      "metadata": {
        "id": "XN-eIjquRPfT",
        "colab_type": "code",
        "outputId": "577b93ad-c4d2-499f-9a3a-94e3917135f7",
        "colab": {
          "base_uri": "https://localhost:8080/",
          "height": 35
        }
      },
      "source": [
        "#To know the shape\n",
        "\n",
        "b.shape"
      ],
      "execution_count": 0,
      "outputs": [
        {
          "output_type": "execute_result",
          "data": {
            "text/plain": [
              "(2, 3)"
            ]
          },
          "metadata": {
            "tags": []
          },
          "execution_count": 17
        }
      ]
    },
    {
      "cell_type": "code",
      "metadata": {
        "id": "pEFffNRPRSj0",
        "colab_type": "code",
        "outputId": "eed1764e-9eb0-45f0-f01a-5e8606e5c6bd",
        "colab": {
          "base_uri": "https://localhost:8080/",
          "height": 35
        }
      },
      "source": [
        "print(a.dtype)"
      ],
      "execution_count": 0,
      "outputs": [
        {
          "output_type": "stream",
          "text": [
            "int8\n"
          ],
          "name": "stdout"
        }
      ]
    },
    {
      "cell_type": "code",
      "metadata": {
        "id": "-vxOvr8vRqlr",
        "colab_type": "code",
        "outputId": "222df625-0229-4186-89e4-9de48d529f02",
        "colab": {
          "base_uri": "https://localhost:8080/",
          "height": 35
        }
      },
      "source": [
        "a.size"
      ],
      "execution_count": 0,
      "outputs": [
        {
          "output_type": "execute_result",
          "data": {
            "text/plain": [
              "3"
            ]
          },
          "metadata": {
            "tags": []
          },
          "execution_count": 19
        }
      ]
    },
    {
      "cell_type": "code",
      "metadata": {
        "id": "xCJj7yYhR7J4",
        "colab_type": "code",
        "outputId": "27711a5b-53af-4d07-ac1b-6aab8930476f",
        "colab": {
          "base_uri": "https://localhost:8080/",
          "height": 35
        }
      },
      "source": [
        "a.itemsize"
      ],
      "execution_count": 0,
      "outputs": [
        {
          "output_type": "execute_result",
          "data": {
            "text/plain": [
              "1"
            ]
          },
          "metadata": {
            "tags": []
          },
          "execution_count": 20
        }
      ]
    },
    {
      "cell_type": "code",
      "metadata": {
        "id": "e3Hlsz9GR9hA",
        "colab_type": "code",
        "outputId": "052c5a11-89bf-4901-e0cd-095adbacecbb",
        "colab": {
          "base_uri": "https://localhost:8080/",
          "height": 35
        }
      },
      "source": [
        "a.size * a.itemsize"
      ],
      "execution_count": 0,
      "outputs": [
        {
          "output_type": "execute_result",
          "data": {
            "text/plain": [
              "24"
            ]
          },
          "metadata": {
            "tags": []
          },
          "execution_count": 11
        }
      ]
    },
    {
      "cell_type": "code",
      "metadata": {
        "id": "_0pOd4O5SHQw",
        "colab_type": "code",
        "outputId": "a1cf177b-d81c-44eb-dffa-952bafa0e7b5",
        "colab": {
          "base_uri": "https://localhost:8080/",
          "height": 35
        }
      },
      "source": [
        "a.nbytes"
      ],
      "execution_count": 0,
      "outputs": [
        {
          "output_type": "execute_result",
          "data": {
            "text/plain": [
              "24"
            ]
          },
          "metadata": {
            "tags": []
          },
          "execution_count": 12
        }
      ]
    },
    {
      "cell_type": "code",
      "metadata": {
        "id": "GB4t1ORESJkV",
        "colab_type": "code",
        "outputId": "06c4dbf5-4e78-40b6-cccd-0b5dd234a199",
        "colab": {
          "base_uri": "https://localhost:8080/",
          "height": 52
        }
      },
      "source": [
        "#Accessing the data elements\n",
        "\n",
        "a = np.array([[1,2,3,4,5,6,7,8],[9,10,11,12,13,14,15,16]], dtype = 'float32')\n",
        "print(a)"
      ],
      "execution_count": 0,
      "outputs": [
        {
          "output_type": "stream",
          "text": [
            "[[ 1.  2.  3.  4.  5.  6.  7.  8.]\n",
            " [ 9. 10. 11. 12. 13. 14. 15. 16.]]\n"
          ],
          "name": "stdout"
        }
      ]
    },
    {
      "cell_type": "code",
      "metadata": {
        "id": "0o4CRxLwSm8f",
        "colab_type": "code",
        "outputId": "5a57827e-d404-4a78-dac7-26ad985c7b2d",
        "colab": {
          "base_uri": "https://localhost:8080/",
          "height": 35
        }
      },
      "source": [
        "a.ndim"
      ],
      "execution_count": 0,
      "outputs": [
        {
          "output_type": "execute_result",
          "data": {
            "text/plain": [
              "2"
            ]
          },
          "metadata": {
            "tags": []
          },
          "execution_count": 43
        }
      ]
    },
    {
      "cell_type": "code",
      "metadata": {
        "id": "qAuIzPssSr7Z",
        "colab_type": "code",
        "outputId": "f100d4aa-421e-4f68-f1cb-6246c1ccabe2",
        "colab": {
          "base_uri": "https://localhost:8080/",
          "height": 35
        }
      },
      "source": [
        "a.shape"
      ],
      "execution_count": 0,
      "outputs": [
        {
          "output_type": "execute_result",
          "data": {
            "text/plain": [
              "(2, 8)"
            ]
          },
          "metadata": {
            "tags": []
          },
          "execution_count": 44
        }
      ]
    },
    {
      "cell_type": "code",
      "metadata": {
        "id": "EdTlb5r7Stby",
        "colab_type": "code",
        "colab": {}
      },
      "source": [
        "random_var = a"
      ],
      "execution_count": 0,
      "outputs": []
    },
    {
      "cell_type": "code",
      "metadata": {
        "id": "-kTwd3GFSymX",
        "colab_type": "code",
        "outputId": "277d7d55-10c7-42d4-b042-5f26867d0768",
        "colab": {
          "base_uri": "https://localhost:8080/",
          "height": 35
        }
      },
      "source": [
        "type(random_var)"
      ],
      "execution_count": 0,
      "outputs": [
        {
          "output_type": "execute_result",
          "data": {
            "text/plain": [
              "numpy.ndarray"
            ]
          },
          "metadata": {
            "tags": []
          },
          "execution_count": 46
        }
      ]
    },
    {
      "cell_type": "code",
      "metadata": {
        "id": "MB8PP1QcS1gC",
        "colab_type": "code",
        "outputId": "254b8608-17f0-4e32-88ed-805fa395caf3",
        "colab": {
          "base_uri": "https://localhost:8080/",
          "height": 35
        }
      },
      "source": [
        "a.dtype"
      ],
      "execution_count": 0,
      "outputs": [
        {
          "output_type": "execute_result",
          "data": {
            "text/plain": [
              "dtype('float32')"
            ]
          },
          "metadata": {
            "tags": []
          },
          "execution_count": 47
        }
      ]
    },
    {
      "cell_type": "code",
      "metadata": {
        "id": "pGnZiRL9S3wo",
        "colab_type": "code",
        "outputId": "42322c1d-7cf7-4083-b4e3-2d6e56db3e75",
        "colab": {
          "base_uri": "https://localhost:8080/",
          "height": 35
        }
      },
      "source": [
        "a[0,0]"
      ],
      "execution_count": 0,
      "outputs": [
        {
          "output_type": "execute_result",
          "data": {
            "text/plain": [
              "1.0"
            ]
          },
          "metadata": {
            "tags": []
          },
          "execution_count": 48
        }
      ]
    },
    {
      "cell_type": "code",
      "metadata": {
        "id": "Y0RrlKvOTNH5",
        "colab_type": "code",
        "outputId": "e349097e-eec0-41e3-a771-65a02c50bac0",
        "colab": {
          "base_uri": "https://localhost:8080/",
          "height": 35
        }
      },
      "source": [
        "print(a[0,:])"
      ],
      "execution_count": 0,
      "outputs": [
        {
          "output_type": "stream",
          "text": [
            "[1. 2. 3. 4. 5. 6. 7. 8.]\n"
          ],
          "name": "stdout"
        }
      ]
    },
    {
      "cell_type": "code",
      "metadata": {
        "id": "MLsN7hAfTdap",
        "colab_type": "code",
        "outputId": "ff5a30f7-3e5a-4911-e167-03c7516362f2",
        "colab": {
          "base_uri": "https://localhost:8080/",
          "height": 35
        }
      },
      "source": [
        "print(a[:,0])"
      ],
      "execution_count": 0,
      "outputs": [
        {
          "output_type": "stream",
          "text": [
            "[1. 9.]\n"
          ],
          "name": "stdout"
        }
      ]
    },
    {
      "cell_type": "code",
      "metadata": {
        "id": "YOi-ayakThxN",
        "colab_type": "code",
        "outputId": "d11d379d-4ccb-4fc1-93a0-67c179502f51",
        "colab": {
          "base_uri": "https://localhost:8080/",
          "height": 52
        }
      },
      "source": [
        "a[:,:]"
      ],
      "execution_count": 0,
      "outputs": [
        {
          "output_type": "execute_result",
          "data": {
            "text/plain": [
              "array([[ 1.,  2.,  3.,  4.,  5.,  6.,  7.,  8.],\n",
              "       [ 9., 10., 11., 12., 13., 14., 15., 16.]], dtype=float32)"
            ]
          },
          "metadata": {
            "tags": []
          },
          "execution_count": 51
        }
      ]
    },
    {
      "cell_type": "code",
      "metadata": {
        "id": "Fb2eV48GTm58",
        "colab_type": "code",
        "outputId": "56255c21-2ccf-47e3-897e-bcb757245917",
        "colab": {
          "base_uri": "https://localhost:8080/",
          "height": 35
        }
      },
      "source": [
        "a[0,1:6:2]"
      ],
      "execution_count": 0,
      "outputs": [
        {
          "output_type": "execute_result",
          "data": {
            "text/plain": [
              "array([2., 4., 6.], dtype=float32)"
            ]
          },
          "metadata": {
            "tags": []
          },
          "execution_count": 52
        }
      ]
    },
    {
      "cell_type": "code",
      "metadata": {
        "id": "ELgY81luTuq2",
        "colab_type": "code",
        "colab": {}
      },
      "source": [
        "a[0,0] = 100"
      ],
      "execution_count": 0,
      "outputs": []
    },
    {
      "cell_type": "code",
      "metadata": {
        "id": "pcaksBjeT9jD",
        "colab_type": "code",
        "outputId": "70d7193b-bb4f-4c75-abc0-cc12d250fd80",
        "colab": {
          "base_uri": "https://localhost:8080/",
          "height": 52
        }
      },
      "source": [
        "a"
      ],
      "execution_count": 0,
      "outputs": [
        {
          "output_type": "execute_result",
          "data": {
            "text/plain": [
              "array([[100.,   2.,   3.,   4.,   5.,   6.,   7.,   8.],\n",
              "       [  9.,  10.,  11.,  12.,  13.,  14.,  15.,  16.]], dtype=float32)"
            ]
          },
          "metadata": {
            "tags": []
          },
          "execution_count": 54
        }
      ]
    },
    {
      "cell_type": "code",
      "metadata": {
        "id": "tcyK8Pu1T-jp",
        "colab_type": "code",
        "colab": {}
      },
      "source": [
        "a[0,:] = 2"
      ],
      "execution_count": 0,
      "outputs": []
    },
    {
      "cell_type": "code",
      "metadata": {
        "id": "yXXdeNWwULii",
        "colab_type": "code",
        "outputId": "79225908-cee7-4ad4-cb38-847e6aa4df23",
        "colab": {
          "base_uri": "https://localhost:8080/",
          "height": 52
        }
      },
      "source": [
        "a"
      ],
      "execution_count": 0,
      "outputs": [
        {
          "output_type": "execute_result",
          "data": {
            "text/plain": [
              "array([[ 2,  2,  2,  2,  2,  2,  2,  2],\n",
              "       [ 9, 10, 11, 12, 13, 14, 15, 16]])"
            ]
          },
          "metadata": {
            "tags": []
          },
          "execution_count": 39
        }
      ]
    },
    {
      "cell_type": "code",
      "metadata": {
        "id": "fJMokIxNUMYf",
        "colab_type": "code",
        "colab": {}
      },
      "source": [
        "a[:,6] = 1000"
      ],
      "execution_count": 0,
      "outputs": []
    },
    {
      "cell_type": "code",
      "metadata": {
        "id": "d1Y_KL-BUafj",
        "colab_type": "code",
        "outputId": "71cc1d06-f0c3-49b2-eaf6-b656757db225",
        "colab": {
          "base_uri": "https://localhost:8080/",
          "height": 69
        }
      },
      "source": [
        "a"
      ],
      "execution_count": 0,
      "outputs": [
        {
          "output_type": "execute_result",
          "data": {
            "text/plain": [
              "array([[   2.,    2.,    2.,    2.,    2.,    2., 1000.,    2.],\n",
              "       [   9.,   10.,   11.,   12.,   13.,   14., 1000.,   16.]],\n",
              "      dtype=float32)"
            ]
          },
          "metadata": {
            "tags": []
          },
          "execution_count": 57
        }
      ]
    },
    {
      "cell_type": "code",
      "metadata": {
        "id": "yNzAU3cGUa-j",
        "colab_type": "code",
        "outputId": "7d78776a-12ee-43d7-a763-982cb9b5e531",
        "colab": {
          "base_uri": "https://localhost:8080/",
          "height": 35
        }
      },
      "source": [
        "a.nbytes"
      ],
      "execution_count": 0,
      "outputs": [
        {
          "output_type": "execute_result",
          "data": {
            "text/plain": [
              "64"
            ]
          },
          "metadata": {
            "tags": []
          },
          "execution_count": 58
        }
      ]
    },
    {
      "cell_type": "code",
      "metadata": {
        "id": "0-CIGkPcVINH",
        "colab_type": "code",
        "colab": {}
      },
      "source": [
        "c = np.array([[[1,2,3],[4,5,6]],[[7,8,9],[10,11,12]]])"
      ],
      "execution_count": 0,
      "outputs": []
    },
    {
      "cell_type": "code",
      "metadata": {
        "id": "g-3YuRELWsco",
        "colab_type": "code",
        "outputId": "c13cbb6c-3c82-4dfb-be67-33849423ae22",
        "colab": {
          "base_uri": "https://localhost:8080/",
          "height": 104
        }
      },
      "source": [
        "print(c)"
      ],
      "execution_count": 0,
      "outputs": [
        {
          "output_type": "stream",
          "text": [
            "[[[ 1  2  3]\n",
            "  [ 4  5  6]]\n",
            "\n",
            " [[ 7  8  9]\n",
            "  [10 11 12]]]\n"
          ],
          "name": "stdout"
        }
      ]
    },
    {
      "cell_type": "code",
      "metadata": {
        "id": "2ZC82xJVWtXw",
        "colab_type": "code",
        "outputId": "3d2119e7-d86a-41cb-9f28-2682f2959ff8",
        "colab": {
          "base_uri": "https://localhost:8080/",
          "height": 35
        }
      },
      "source": [
        "c.ndim"
      ],
      "execution_count": 0,
      "outputs": [
        {
          "output_type": "execute_result",
          "data": {
            "text/plain": [
              "3"
            ]
          },
          "metadata": {
            "tags": []
          },
          "execution_count": 73
        }
      ]
    },
    {
      "cell_type": "code",
      "metadata": {
        "id": "I3XRERZfXF_5",
        "colab_type": "code",
        "outputId": "dedf3d74-567c-4fa7-a83d-18dea34594a3",
        "colab": {
          "base_uri": "https://localhost:8080/",
          "height": 35
        }
      },
      "source": [
        "c.nbytes"
      ],
      "execution_count": 0,
      "outputs": [
        {
          "output_type": "execute_result",
          "data": {
            "text/plain": [
              "96"
            ]
          },
          "metadata": {
            "tags": []
          },
          "execution_count": 75
        }
      ]
    },
    {
      "cell_type": "code",
      "metadata": {
        "id": "P2OCvFpnXJtx",
        "colab_type": "code",
        "outputId": "2f80e8e2-c4f3-4d53-daa0-f2366b8349c6",
        "colab": {
          "base_uri": "https://localhost:8080/",
          "height": 52
        }
      },
      "source": [
        "print(c[0,:,:])"
      ],
      "execution_count": 0,
      "outputs": [
        {
          "output_type": "stream",
          "text": [
            "[[1 2 3]\n",
            " [4 5 6]]\n"
          ],
          "name": "stdout"
        }
      ]
    },
    {
      "cell_type": "code",
      "metadata": {
        "id": "jOBsk430XPIb",
        "colab_type": "code",
        "colab": {}
      },
      "source": [
        "c[0,:,:] = np.array([[200,300,400],[500,600,700]])"
      ],
      "execution_count": 0,
      "outputs": []
    },
    {
      "cell_type": "code",
      "metadata": {
        "id": "IqY8sOKeZNo5",
        "colab_type": "code",
        "outputId": "2e6fbf2e-6db9-4959-c950-728dbdfc64c9",
        "colab": {
          "base_uri": "https://localhost:8080/",
          "height": 104
        }
      },
      "source": [
        "c"
      ],
      "execution_count": 0,
      "outputs": [
        {
          "output_type": "execute_result",
          "data": {
            "text/plain": [
              "array([[[200, 300, 400],\n",
              "        [500, 600, 700]],\n",
              "\n",
              "       [[  7,   8,   9],\n",
              "        [ 10,  11,  12]]])"
            ]
          },
          "metadata": {
            "tags": []
          },
          "execution_count": 78
        }
      ]
    },
    {
      "cell_type": "code",
      "metadata": {
        "id": "4xXNsuikZOez",
        "colab_type": "code",
        "colab": {}
      },
      "source": [
        "d = np.ones((2,2),dtype = 'int8')"
      ],
      "execution_count": 0,
      "outputs": []
    },
    {
      "cell_type": "code",
      "metadata": {
        "id": "wpGwG0M0Zqn8",
        "colab_type": "code",
        "outputId": "e5b8aefe-9283-4538-c157-b6b2f5327d30",
        "colab": {
          "base_uri": "https://localhost:8080/",
          "height": 52
        }
      },
      "source": [
        "d"
      ],
      "execution_count": 0,
      "outputs": [
        {
          "output_type": "execute_result",
          "data": {
            "text/plain": [
              "array([[1, 1],\n",
              "       [1, 1]], dtype=int8)"
            ]
          },
          "metadata": {
            "tags": []
          },
          "execution_count": 80
        }
      ]
    },
    {
      "cell_type": "code",
      "metadata": {
        "id": "1NawLZW1ZrUw",
        "colab_type": "code",
        "outputId": "fe8308d1-a151-47e0-a5e1-702dbb93f1cc",
        "colab": {
          "base_uri": "https://localhost:8080/",
          "height": 35
        }
      },
      "source": [
        "d.dtype"
      ],
      "execution_count": 0,
      "outputs": [
        {
          "output_type": "execute_result",
          "data": {
            "text/plain": [
              "dtype('int8')"
            ]
          },
          "metadata": {
            "tags": []
          },
          "execution_count": 81
        }
      ]
    },
    {
      "cell_type": "code",
      "metadata": {
        "id": "yTZ4-ruyZt5z",
        "colab_type": "code",
        "colab": {}
      },
      "source": [
        "e = np.zeros((2,2),dtype = 'int8')"
      ],
      "execution_count": 0,
      "outputs": []
    },
    {
      "cell_type": "code",
      "metadata": {
        "id": "q743rXR3Z5vN",
        "colab_type": "code",
        "outputId": "cf101d56-4d5d-4564-ad03-40934ede1169",
        "colab": {
          "base_uri": "https://localhost:8080/",
          "height": 52
        }
      },
      "source": [
        "e"
      ],
      "execution_count": 0,
      "outputs": [
        {
          "output_type": "execute_result",
          "data": {
            "text/plain": [
              "array([[0, 0],\n",
              "       [0, 0]], dtype=int8)"
            ]
          },
          "metadata": {
            "tags": []
          },
          "execution_count": 86
        }
      ]
    },
    {
      "cell_type": "code",
      "metadata": {
        "id": "QtICQkKIZ60c",
        "colab_type": "code",
        "colab": {}
      },
      "source": [
        "f = np.full((2,2), 100, dtype = 'int32')"
      ],
      "execution_count": 0,
      "outputs": []
    },
    {
      "cell_type": "code",
      "metadata": {
        "id": "xtra4RJHaVBz",
        "colab_type": "code",
        "outputId": "dc6f8aec-618f-47e8-9f60-e670f429d4e9",
        "colab": {
          "base_uri": "https://localhost:8080/",
          "height": 52
        }
      },
      "source": [
        "f"
      ],
      "execution_count": 0,
      "outputs": [
        {
          "output_type": "execute_result",
          "data": {
            "text/plain": [
              "array([[100, 100],\n",
              "       [100, 100]], dtype=int32)"
            ]
          },
          "metadata": {
            "tags": []
          },
          "execution_count": 89
        }
      ]
    },
    {
      "cell_type": "code",
      "metadata": {
        "id": "n68B9Pqxab_9",
        "colab_type": "code",
        "colab": {}
      },
      "source": [
        "print(np.full_like(a))\n"
      ],
      "execution_count": 0,
      "outputs": []
    },
    {
      "cell_type": "code",
      "metadata": {
        "id": "Ce0UhMGTayqq",
        "colab_type": "code",
        "outputId": "b69693df-7c22-43f8-b6d0-355f40c2e5f9",
        "colab": {
          "base_uri": "https://localhost:8080/",
          "height": 104
        }
      },
      "source": [
        "f = np.ones([5,5])\n",
        "f[1:4,1:4]=[[0,0,0],[0,9,0],[0,0,0]]\n",
        "f"
      ],
      "execution_count": 0,
      "outputs": [
        {
          "output_type": "execute_result",
          "data": {
            "text/plain": [
              "array([[1., 1., 1., 1., 1.],\n",
              "       [1., 0., 0., 0., 1.],\n",
              "       [1., 0., 9., 0., 1.],\n",
              "       [1., 0., 0., 0., 1.],\n",
              "       [1., 1., 1., 1., 1.]])"
            ]
          },
          "metadata": {
            "tags": []
          },
          "execution_count": 90
        }
      ]
    },
    {
      "cell_type": "code",
      "metadata": {
        "id": "yY6rZl4Qbe54",
        "colab_type": "code",
        "outputId": "2218a4b5-d16f-44d9-a3b6-8411f98e5d40",
        "colab": {
          "base_uri": "https://localhost:8080/",
          "height": 104
        }
      },
      "source": [
        "g = np.ones((5,5))\n",
        "g[1:4,1:4]=0\n",
        "g[2,2]=9\n",
        "g"
      ],
      "execution_count": 0,
      "outputs": [
        {
          "output_type": "execute_result",
          "data": {
            "text/plain": [
              "array([[1., 1., 1., 1., 1.],\n",
              "       [1., 0., 0., 0., 1.],\n",
              "       [1., 0., 9., 0., 1.],\n",
              "       [1., 0., 0., 0., 1.],\n",
              "       [1., 1., 1., 1., 1.]])"
            ]
          },
          "metadata": {
            "tags": []
          },
          "execution_count": 91
        }
      ]
    },
    {
      "cell_type": "code",
      "metadata": {
        "id": "12JpUPaPcQ0D",
        "colab_type": "code",
        "colab": {}
      },
      "source": [
        "#Advanced concepts\n",
        "\n",
        "#1 :- Linear Algebra\n",
        "\n",
        "\n",
        "arr = np.array([[1,2,3],[4,5,6]])"
      ],
      "execution_count": 0,
      "outputs": []
    },
    {
      "cell_type": "code",
      "metadata": {
        "id": "ydLj2o9udw-O",
        "colab_type": "code",
        "outputId": "e197cc18-9633-44ca-fb6b-90e15ab03b12",
        "colab": {
          "base_uri": "https://localhost:8080/",
          "height": 35
        }
      },
      "source": [
        "arr.shape"
      ],
      "execution_count": 0,
      "outputs": [
        {
          "output_type": "execute_result",
          "data": {
            "text/plain": [
              "(2, 3)"
            ]
          },
          "metadata": {
            "tags": []
          },
          "execution_count": 95
        }
      ]
    },
    {
      "cell_type": "code",
      "metadata": {
        "id": "Xzll1d2Rdyvi",
        "colab_type": "code",
        "colab": {}
      },
      "source": [
        "new_arr = arr.reshape(3,2)"
      ],
      "execution_count": 0,
      "outputs": []
    },
    {
      "cell_type": "code",
      "metadata": {
        "id": "oYialCX1eLe1",
        "colab_type": "code",
        "outputId": "f8fadbcc-866c-4a5f-a98a-40258f69cb34",
        "colab": {
          "base_uri": "https://localhost:8080/",
          "height": 52
        }
      },
      "source": [
        "arr"
      ],
      "execution_count": 0,
      "outputs": [
        {
          "output_type": "execute_result",
          "data": {
            "text/plain": [
              "array([[1, 2, 3],\n",
              "       [4, 5, 6]])"
            ]
          },
          "metadata": {
            "tags": []
          },
          "execution_count": 97
        }
      ]
    },
    {
      "cell_type": "code",
      "metadata": {
        "id": "VsHtuh1geNKs",
        "colab_type": "code",
        "outputId": "a1e58166-a22a-4563-f701-835b185f6575",
        "colab": {
          "base_uri": "https://localhost:8080/",
          "height": 69
        }
      },
      "source": [
        "new_arr"
      ],
      "execution_count": 0,
      "outputs": [
        {
          "output_type": "execute_result",
          "data": {
            "text/plain": [
              "array([[1, 2],\n",
              "       [3, 4],\n",
              "       [5, 6]])"
            ]
          },
          "metadata": {
            "tags": []
          },
          "execution_count": 98
        }
      ]
    },
    {
      "cell_type": "code",
      "metadata": {
        "id": "BmFmvHsTeOq_",
        "colab_type": "code",
        "outputId": "7fc36baf-5580-4153-bdbc-4e7619a13485",
        "colab": {
          "base_uri": "https://localhost:8080/",
          "height": 52
        }
      },
      "source": [
        "product = np.matmul(arr,new_arr)"
      ],
      "execution_count": 0,
      "outputs": [
        {
          "output_type": "execute_result",
          "data": {
            "text/plain": [
              "array([[22, 28],\n",
              "       [49, 64]])"
            ]
          },
          "metadata": {
            "tags": []
          },
          "execution_count": 100
        }
      ]
    },
    {
      "cell_type": "code",
      "metadata": {
        "id": "-ve8k-tGeUhH",
        "colab_type": "code",
        "outputId": "d46c7139-bd64-47f4-ff5b-725c302ed869",
        "colab": {
          "base_uri": "https://localhost:8080/",
          "height": 69
        }
      },
      "source": [
        "h = np.identity(3)\n",
        "print(h)\n"
      ],
      "execution_count": 0,
      "outputs": [
        {
          "output_type": "stream",
          "text": [
            "[[1. 0. 0.]\n",
            " [0. 1. 0.]\n",
            " [0. 0. 1.]]\n"
          ],
          "name": "stdout"
        }
      ]
    },
    {
      "cell_type": "code",
      "metadata": {
        "id": "EK1yMx48efYe",
        "colab_type": "code",
        "outputId": "d6b9c65b-86fc-468e-8f45-f0ea8f4d8a8b",
        "colab": {
          "base_uri": "https://localhost:8080/",
          "height": 35
        }
      },
      "source": [
        "np.linalg.det(h)"
      ],
      "execution_count": 0,
      "outputs": [
        {
          "output_type": "execute_result",
          "data": {
            "text/plain": [
              "1.0"
            ]
          },
          "metadata": {
            "tags": []
          },
          "execution_count": 104
        }
      ]
    },
    {
      "cell_type": "code",
      "metadata": {
        "id": "WNO1EzSHe_Jw",
        "colab_type": "code",
        "colab": {}
      },
      "source": [
        "v1 = np.array([1,2,3])\n",
        "v2 = np.array([4,5,6])"
      ],
      "execution_count": 0,
      "outputs": []
    },
    {
      "cell_type": "code",
      "metadata": {
        "id": "DYngMRB7gEuS",
        "colab_type": "code",
        "outputId": "e0a1b105-db9a-4274-b8eb-58fb8cfa7c1a",
        "colab": {
          "base_uri": "https://localhost:8080/",
          "height": 121
        }
      },
      "source": [
        "print(np.vstack([v1,v2,v1,v2,v2,v1]))"
      ],
      "execution_count": 0,
      "outputs": [
        {
          "output_type": "stream",
          "text": [
            "[[1 2 3]\n",
            " [4 5 6]\n",
            " [1 2 3]\n",
            " [4 5 6]\n",
            " [4 5 6]\n",
            " [1 2 3]]\n"
          ],
          "name": "stdout"
        }
      ]
    },
    {
      "cell_type": "code",
      "metadata": {
        "id": "lxheZ020gMWG",
        "colab_type": "code",
        "outputId": "6ea60beb-61c5-4121-bc51-4bb6311b57b4",
        "colab": {
          "base_uri": "https://localhost:8080/",
          "height": 35
        }
      },
      "source": [
        "print(np.hstack([v1,v2,v1,v2,v2,v1]))"
      ],
      "execution_count": 0,
      "outputs": [
        {
          "output_type": "stream",
          "text": [
            "[1 2 3 4 5 6 1 2 3 4 5 6 4 5 6 1 2 3]\n"
          ],
          "name": "stdout"
        }
      ]
    },
    {
      "cell_type": "code",
      "metadata": {
        "id": "eBzAkT4OgaLe",
        "colab_type": "code",
        "outputId": "93a6ffb0-60d9-40cc-ffc5-9e7b0189e844",
        "colab": {
          "base_uri": "https://localhost:8080/",
          "height": 35
        }
      },
      "source": [
        "pwd"
      ],
      "execution_count": 0,
      "outputs": [
        {
          "output_type": "execute_result",
          "data": {
            "text/plain": [
              "'/content'"
            ]
          },
          "metadata": {
            "tags": []
          },
          "execution_count": 120
        }
      ]
    },
    {
      "cell_type": "code",
      "metadata": {
        "id": "vSXG7UHkhKg1",
        "colab_type": "code",
        "outputId": "3cf27c43-bb0c-45c0-ed96-dfae6e0af058",
        "colab": {
          "base_uri": "https://localhost:8080/",
          "height": 35
        }
      },
      "source": [
        "ls"
      ],
      "execution_count": 0,
      "outputs": [
        {
          "output_type": "stream",
          "text": [
            "abc.txt  \u001b[0m\u001b[01;34msample_data\u001b[0m/\n"
          ],
          "name": "stdout"
        }
      ]
    },
    {
      "cell_type": "code",
      "metadata": {
        "id": "cfmwJfejhLzQ",
        "colab_type": "code",
        "colab": {}
      },
      "source": [
        "#Read a file using Numpy\n",
        "\n",
        "filedata = np.genfromtxt('abc.txt', delimiter = ',', dtype = 'int8')"
      ],
      "execution_count": 0,
      "outputs": []
    },
    {
      "cell_type": "code",
      "metadata": {
        "id": "q1-iBhbthlSH",
        "colab_type": "code",
        "outputId": "91dacfff-bc83-4c81-f002-c06211240ec3",
        "colab": {
          "base_uri": "https://localhost:8080/",
          "height": 35
        }
      },
      "source": [
        "filedata"
      ],
      "execution_count": 0,
      "outputs": [
        {
          "output_type": "execute_result",
          "data": {
            "text/plain": [
              "array(-1, dtype=int8)"
            ]
          },
          "metadata": {
            "tags": []
          },
          "execution_count": 127
        }
      ]
    },
    {
      "cell_type": "code",
      "metadata": {
        "id": "h1hta7VDhwG6",
        "colab_type": "code",
        "colab": {}
      },
      "source": [
        ""
      ],
      "execution_count": 0,
      "outputs": []
    },
    {
      "cell_type": "markdown",
      "metadata": {
        "id": "VtxD2fsKnxWl",
        "colab_type": "text"
      },
      "source": [
        "Pandas"
      ]
    },
    {
      "cell_type": "code",
      "metadata": {
        "id": "98CVt9a3nzOY",
        "colab_type": "code",
        "outputId": "dbd87a3c-9a05-4477-f482-9769b9df463f",
        "colab": {
          "base_uri": "https://localhost:8080/",
          "height": 124
        }
      },
      "source": [
        "pip install pandas\n"
      ],
      "execution_count": 0,
      "outputs": [
        {
          "output_type": "stream",
          "text": [
            "Requirement already satisfied: pandas in /usr/local/lib/python3.6/dist-packages (1.0.3)\n",
            "Requirement already satisfied: numpy>=1.13.3 in /usr/local/lib/python3.6/dist-packages (from pandas) (1.18.2)\n",
            "Requirement already satisfied: python-dateutil>=2.6.1 in /usr/local/lib/python3.6/dist-packages (from pandas) (2.8.1)\n",
            "Requirement already satisfied: pytz>=2017.2 in /usr/local/lib/python3.6/dist-packages (from pandas) (2018.9)\n",
            "Requirement already satisfied: six>=1.5 in /usr/local/lib/python3.6/dist-packages (from python-dateutil>=2.6.1->pandas) (1.12.0)\n"
          ],
          "name": "stdout"
        }
      ]
    },
    {
      "cell_type": "code",
      "metadata": {
        "id": "yFyyOAbcn1re",
        "colab_type": "code",
        "colab": {}
      },
      "source": [
        "import pandas as pd\n",
        "import matplotlib.pyplot as plt\n"
      ],
      "execution_count": 0,
      "outputs": []
    },
    {
      "cell_type": "code",
      "metadata": {
        "id": "h1GtH7tcop0p",
        "colab_type": "code",
        "colab": {}
      },
      "source": [
        "df = pd.read_csv('pokemon_data.csv')"
      ],
      "execution_count": 0,
      "outputs": []
    },
    {
      "cell_type": "code",
      "metadata": {
        "id": "lEyvx90opXfj",
        "colab_type": "code",
        "outputId": "e4cff8b0-e005-4520-efbe-68b3ad746c20",
        "colab": {
          "base_uri": "https://localhost:8080/",
          "height": 522
        }
      },
      "source": [
        "df"
      ],
      "execution_count": 0,
      "outputs": [
        {
          "output_type": "execute_result",
          "data": {
            "text/html": [
              "<div>\n",
              "<style scoped>\n",
              "    .dataframe tbody tr th:only-of-type {\n",
              "        vertical-align: middle;\n",
              "    }\n",
              "\n",
              "    .dataframe tbody tr th {\n",
              "        vertical-align: top;\n",
              "    }\n",
              "\n",
              "    .dataframe thead th {\n",
              "        text-align: right;\n",
              "    }\n",
              "</style>\n",
              "<table border=\"1\" class=\"dataframe\">\n",
              "  <thead>\n",
              "    <tr style=\"text-align: right;\">\n",
              "      <th></th>\n",
              "      <th>#</th>\n",
              "      <th>Name</th>\n",
              "      <th>Type 1</th>\n",
              "      <th>Type 2</th>\n",
              "      <th>HP</th>\n",
              "      <th>Attack</th>\n",
              "      <th>Defense</th>\n",
              "      <th>Sp. Atk</th>\n",
              "      <th>Sp. Def</th>\n",
              "      <th>Speed</th>\n",
              "      <th>Generation</th>\n",
              "      <th>Legendary</th>\n",
              "    </tr>\n",
              "  </thead>\n",
              "  <tbody>\n",
              "    <tr>\n",
              "      <th>0</th>\n",
              "      <td>1</td>\n",
              "      <td>Bulbasaur</td>\n",
              "      <td>Grass</td>\n",
              "      <td>Poison</td>\n",
              "      <td>45</td>\n",
              "      <td>49</td>\n",
              "      <td>49</td>\n",
              "      <td>65</td>\n",
              "      <td>65</td>\n",
              "      <td>45</td>\n",
              "      <td>1</td>\n",
              "      <td>False</td>\n",
              "    </tr>\n",
              "    <tr>\n",
              "      <th>1</th>\n",
              "      <td>2</td>\n",
              "      <td>Ivysaur</td>\n",
              "      <td>Grass</td>\n",
              "      <td>Poison</td>\n",
              "      <td>60</td>\n",
              "      <td>62</td>\n",
              "      <td>63</td>\n",
              "      <td>80</td>\n",
              "      <td>80</td>\n",
              "      <td>60</td>\n",
              "      <td>1</td>\n",
              "      <td>False</td>\n",
              "    </tr>\n",
              "    <tr>\n",
              "      <th>2</th>\n",
              "      <td>3</td>\n",
              "      <td>Venusaur</td>\n",
              "      <td>Grass</td>\n",
              "      <td>Poison</td>\n",
              "      <td>80</td>\n",
              "      <td>82</td>\n",
              "      <td>83</td>\n",
              "      <td>100</td>\n",
              "      <td>100</td>\n",
              "      <td>80</td>\n",
              "      <td>1</td>\n",
              "      <td>False</td>\n",
              "    </tr>\n",
              "    <tr>\n",
              "      <th>3</th>\n",
              "      <td>3</td>\n",
              "      <td>VenusaurMega Venusaur</td>\n",
              "      <td>Grass</td>\n",
              "      <td>Poison</td>\n",
              "      <td>80</td>\n",
              "      <td>100</td>\n",
              "      <td>123</td>\n",
              "      <td>122</td>\n",
              "      <td>120</td>\n",
              "      <td>80</td>\n",
              "      <td>1</td>\n",
              "      <td>False</td>\n",
              "    </tr>\n",
              "    <tr>\n",
              "      <th>4</th>\n",
              "      <td>4</td>\n",
              "      <td>Charmander</td>\n",
              "      <td>Fire</td>\n",
              "      <td>NaN</td>\n",
              "      <td>39</td>\n",
              "      <td>52</td>\n",
              "      <td>43</td>\n",
              "      <td>60</td>\n",
              "      <td>50</td>\n",
              "      <td>65</td>\n",
              "      <td>1</td>\n",
              "      <td>False</td>\n",
              "    </tr>\n",
              "    <tr>\n",
              "      <th>...</th>\n",
              "      <td>...</td>\n",
              "      <td>...</td>\n",
              "      <td>...</td>\n",
              "      <td>...</td>\n",
              "      <td>...</td>\n",
              "      <td>...</td>\n",
              "      <td>...</td>\n",
              "      <td>...</td>\n",
              "      <td>...</td>\n",
              "      <td>...</td>\n",
              "      <td>...</td>\n",
              "      <td>...</td>\n",
              "    </tr>\n",
              "    <tr>\n",
              "      <th>795</th>\n",
              "      <td>719</td>\n",
              "      <td>Diancie</td>\n",
              "      <td>Rock</td>\n",
              "      <td>Fairy</td>\n",
              "      <td>50</td>\n",
              "      <td>100</td>\n",
              "      <td>150</td>\n",
              "      <td>100</td>\n",
              "      <td>150</td>\n",
              "      <td>50</td>\n",
              "      <td>6</td>\n",
              "      <td>True</td>\n",
              "    </tr>\n",
              "    <tr>\n",
              "      <th>796</th>\n",
              "      <td>719</td>\n",
              "      <td>DiancieMega Diancie</td>\n",
              "      <td>Rock</td>\n",
              "      <td>Fairy</td>\n",
              "      <td>50</td>\n",
              "      <td>160</td>\n",
              "      <td>110</td>\n",
              "      <td>160</td>\n",
              "      <td>110</td>\n",
              "      <td>110</td>\n",
              "      <td>6</td>\n",
              "      <td>True</td>\n",
              "    </tr>\n",
              "    <tr>\n",
              "      <th>797</th>\n",
              "      <td>720</td>\n",
              "      <td>HoopaHoopa Confined</td>\n",
              "      <td>Psychic</td>\n",
              "      <td>Ghost</td>\n",
              "      <td>80</td>\n",
              "      <td>110</td>\n",
              "      <td>60</td>\n",
              "      <td>150</td>\n",
              "      <td>130</td>\n",
              "      <td>70</td>\n",
              "      <td>6</td>\n",
              "      <td>True</td>\n",
              "    </tr>\n",
              "    <tr>\n",
              "      <th>798</th>\n",
              "      <td>720</td>\n",
              "      <td>HoopaHoopa Unbound</td>\n",
              "      <td>Psychic</td>\n",
              "      <td>Dark</td>\n",
              "      <td>80</td>\n",
              "      <td>160</td>\n",
              "      <td>60</td>\n",
              "      <td>170</td>\n",
              "      <td>130</td>\n",
              "      <td>80</td>\n",
              "      <td>6</td>\n",
              "      <td>True</td>\n",
              "    </tr>\n",
              "    <tr>\n",
              "      <th>799</th>\n",
              "      <td>721</td>\n",
              "      <td>Volcanion</td>\n",
              "      <td>Fire</td>\n",
              "      <td>Water</td>\n",
              "      <td>80</td>\n",
              "      <td>110</td>\n",
              "      <td>120</td>\n",
              "      <td>130</td>\n",
              "      <td>90</td>\n",
              "      <td>70</td>\n",
              "      <td>6</td>\n",
              "      <td>True</td>\n",
              "    </tr>\n",
              "  </tbody>\n",
              "</table>\n",
              "<p>800 rows × 12 columns</p>\n",
              "</div>"
            ],
            "text/plain": [
              "       #                   Name   Type 1  ... Speed  Generation  Legendary\n",
              "0      1              Bulbasaur    Grass  ...    45           1      False\n",
              "1      2                Ivysaur    Grass  ...    60           1      False\n",
              "2      3               Venusaur    Grass  ...    80           1      False\n",
              "3      3  VenusaurMega Venusaur    Grass  ...    80           1      False\n",
              "4      4             Charmander     Fire  ...    65           1      False\n",
              "..   ...                    ...      ...  ...   ...         ...        ...\n",
              "795  719                Diancie     Rock  ...    50           6       True\n",
              "796  719    DiancieMega Diancie     Rock  ...   110           6       True\n",
              "797  720    HoopaHoopa Confined  Psychic  ...    70           6       True\n",
              "798  720     HoopaHoopa Unbound  Psychic  ...    80           6       True\n",
              "799  721              Volcanion     Fire  ...    70           6       True\n",
              "\n",
              "[800 rows x 12 columns]"
            ]
          },
          "metadata": {
            "tags": []
          },
          "execution_count": 139
        }
      ]
    },
    {
      "cell_type": "code",
      "metadata": {
        "id": "fd4N8kzvpZtJ",
        "colab_type": "code",
        "outputId": "72874c73-6780-4b43-b2a6-ccae476c4dc1",
        "colab": {
          "base_uri": "https://localhost:8080/",
          "height": 121
        }
      },
      "source": [
        "print(df.head(3))"
      ],
      "execution_count": 0,
      "outputs": [
        {
          "output_type": "stream",
          "text": [
            "   #       Name Type 1  Type 2  ...  Sp. Def  Speed  Generation  Legendary\n",
            "0  1  Bulbasaur  Grass  Poison  ...       65     45           1      False\n",
            "1  2    Ivysaur  Grass  Poison  ...       80     60           1      False\n",
            "2  3   Venusaur  Grass  Poison  ...      100     80           1      False\n",
            "\n",
            "[3 rows x 12 columns]\n"
          ],
          "name": "stdout"
        }
      ]
    },
    {
      "cell_type": "code",
      "metadata": {
        "id": "Cyp5lj1Xsv7h",
        "colab_type": "code",
        "colab": {}
      },
      "source": [
        "df = pd.read_csv('pokemon_data.txt', delimiter = '\\t')"
      ],
      "execution_count": 0,
      "outputs": []
    },
    {
      "cell_type": "code",
      "metadata": {
        "id": "k4AhPcvvtDaY",
        "colab_type": "code",
        "outputId": "a929a18d-4247-4584-e7c0-fe734066bfb0",
        "colab": {
          "base_uri": "https://localhost:8080/",
          "height": 522
        }
      },
      "source": [
        "df"
      ],
      "execution_count": 0,
      "outputs": [
        {
          "output_type": "execute_result",
          "data": {
            "text/html": [
              "<div>\n",
              "<style scoped>\n",
              "    .dataframe tbody tr th:only-of-type {\n",
              "        vertical-align: middle;\n",
              "    }\n",
              "\n",
              "    .dataframe tbody tr th {\n",
              "        vertical-align: top;\n",
              "    }\n",
              "\n",
              "    .dataframe thead th {\n",
              "        text-align: right;\n",
              "    }\n",
              "</style>\n",
              "<table border=\"1\" class=\"dataframe\">\n",
              "  <thead>\n",
              "    <tr style=\"text-align: right;\">\n",
              "      <th></th>\n",
              "      <th>#</th>\n",
              "      <th>Name</th>\n",
              "      <th>Type 1</th>\n",
              "      <th>Type 2</th>\n",
              "      <th>HP</th>\n",
              "      <th>Attack</th>\n",
              "      <th>Defense</th>\n",
              "      <th>Sp. Atk</th>\n",
              "      <th>Sp. Def</th>\n",
              "      <th>Speed</th>\n",
              "      <th>Generation</th>\n",
              "      <th>Legendary</th>\n",
              "    </tr>\n",
              "  </thead>\n",
              "  <tbody>\n",
              "    <tr>\n",
              "      <th>0</th>\n",
              "      <td>1</td>\n",
              "      <td>Bulbasaur</td>\n",
              "      <td>Grass</td>\n",
              "      <td>Poison</td>\n",
              "      <td>45</td>\n",
              "      <td>49</td>\n",
              "      <td>49</td>\n",
              "      <td>65</td>\n",
              "      <td>65</td>\n",
              "      <td>45</td>\n",
              "      <td>1</td>\n",
              "      <td>False</td>\n",
              "    </tr>\n",
              "    <tr>\n",
              "      <th>1</th>\n",
              "      <td>2</td>\n",
              "      <td>Ivysaur</td>\n",
              "      <td>Grass</td>\n",
              "      <td>Poison</td>\n",
              "      <td>60</td>\n",
              "      <td>62</td>\n",
              "      <td>63</td>\n",
              "      <td>80</td>\n",
              "      <td>80</td>\n",
              "      <td>60</td>\n",
              "      <td>1</td>\n",
              "      <td>False</td>\n",
              "    </tr>\n",
              "    <tr>\n",
              "      <th>2</th>\n",
              "      <td>3</td>\n",
              "      <td>Venusaur</td>\n",
              "      <td>Grass</td>\n",
              "      <td>Poison</td>\n",
              "      <td>80</td>\n",
              "      <td>82</td>\n",
              "      <td>83</td>\n",
              "      <td>100</td>\n",
              "      <td>100</td>\n",
              "      <td>80</td>\n",
              "      <td>1</td>\n",
              "      <td>False</td>\n",
              "    </tr>\n",
              "    <tr>\n",
              "      <th>3</th>\n",
              "      <td>3</td>\n",
              "      <td>VenusaurMega Venusaur</td>\n",
              "      <td>Grass</td>\n",
              "      <td>Poison</td>\n",
              "      <td>80</td>\n",
              "      <td>100</td>\n",
              "      <td>123</td>\n",
              "      <td>122</td>\n",
              "      <td>120</td>\n",
              "      <td>80</td>\n",
              "      <td>1</td>\n",
              "      <td>False</td>\n",
              "    </tr>\n",
              "    <tr>\n",
              "      <th>4</th>\n",
              "      <td>4</td>\n",
              "      <td>Charmander</td>\n",
              "      <td>Fire</td>\n",
              "      <td>NaN</td>\n",
              "      <td>39</td>\n",
              "      <td>52</td>\n",
              "      <td>43</td>\n",
              "      <td>60</td>\n",
              "      <td>50</td>\n",
              "      <td>65</td>\n",
              "      <td>1</td>\n",
              "      <td>False</td>\n",
              "    </tr>\n",
              "    <tr>\n",
              "      <th>...</th>\n",
              "      <td>...</td>\n",
              "      <td>...</td>\n",
              "      <td>...</td>\n",
              "      <td>...</td>\n",
              "      <td>...</td>\n",
              "      <td>...</td>\n",
              "      <td>...</td>\n",
              "      <td>...</td>\n",
              "      <td>...</td>\n",
              "      <td>...</td>\n",
              "      <td>...</td>\n",
              "      <td>...</td>\n",
              "    </tr>\n",
              "    <tr>\n",
              "      <th>795</th>\n",
              "      <td>719</td>\n",
              "      <td>Diancie</td>\n",
              "      <td>Rock</td>\n",
              "      <td>Fairy</td>\n",
              "      <td>50</td>\n",
              "      <td>100</td>\n",
              "      <td>150</td>\n",
              "      <td>100</td>\n",
              "      <td>150</td>\n",
              "      <td>50</td>\n",
              "      <td>6</td>\n",
              "      <td>True</td>\n",
              "    </tr>\n",
              "    <tr>\n",
              "      <th>796</th>\n",
              "      <td>719</td>\n",
              "      <td>DiancieMega Diancie</td>\n",
              "      <td>Rock</td>\n",
              "      <td>Fairy</td>\n",
              "      <td>50</td>\n",
              "      <td>160</td>\n",
              "      <td>110</td>\n",
              "      <td>160</td>\n",
              "      <td>110</td>\n",
              "      <td>110</td>\n",
              "      <td>6</td>\n",
              "      <td>True</td>\n",
              "    </tr>\n",
              "    <tr>\n",
              "      <th>797</th>\n",
              "      <td>720</td>\n",
              "      <td>HoopaHoopa Confined</td>\n",
              "      <td>Psychic</td>\n",
              "      <td>Ghost</td>\n",
              "      <td>80</td>\n",
              "      <td>110</td>\n",
              "      <td>60</td>\n",
              "      <td>150</td>\n",
              "      <td>130</td>\n",
              "      <td>70</td>\n",
              "      <td>6</td>\n",
              "      <td>True</td>\n",
              "    </tr>\n",
              "    <tr>\n",
              "      <th>798</th>\n",
              "      <td>720</td>\n",
              "      <td>HoopaHoopa Unbound</td>\n",
              "      <td>Psychic</td>\n",
              "      <td>Dark</td>\n",
              "      <td>80</td>\n",
              "      <td>160</td>\n",
              "      <td>60</td>\n",
              "      <td>170</td>\n",
              "      <td>130</td>\n",
              "      <td>80</td>\n",
              "      <td>6</td>\n",
              "      <td>True</td>\n",
              "    </tr>\n",
              "    <tr>\n",
              "      <th>799</th>\n",
              "      <td>721</td>\n",
              "      <td>Volcanion</td>\n",
              "      <td>Fire</td>\n",
              "      <td>Water</td>\n",
              "      <td>80</td>\n",
              "      <td>110</td>\n",
              "      <td>120</td>\n",
              "      <td>130</td>\n",
              "      <td>90</td>\n",
              "      <td>70</td>\n",
              "      <td>6</td>\n",
              "      <td>True</td>\n",
              "    </tr>\n",
              "  </tbody>\n",
              "</table>\n",
              "<p>800 rows × 12 columns</p>\n",
              "</div>"
            ],
            "text/plain": [
              "       #                   Name   Type 1  ... Speed  Generation  Legendary\n",
              "0      1              Bulbasaur    Grass  ...    45           1      False\n",
              "1      2                Ivysaur    Grass  ...    60           1      False\n",
              "2      3               Venusaur    Grass  ...    80           1      False\n",
              "3      3  VenusaurMega Venusaur    Grass  ...    80           1      False\n",
              "4      4             Charmander     Fire  ...    65           1      False\n",
              "..   ...                    ...      ...  ...   ...         ...        ...\n",
              "795  719                Diancie     Rock  ...    50           6       True\n",
              "796  719    DiancieMega Diancie     Rock  ...   110           6       True\n",
              "797  720    HoopaHoopa Confined  Psychic  ...    70           6       True\n",
              "798  720     HoopaHoopa Unbound  Psychic  ...    80           6       True\n",
              "799  721              Volcanion     Fire  ...    70           6       True\n",
              "\n",
              "[800 rows x 12 columns]"
            ]
          },
          "metadata": {
            "tags": []
          },
          "execution_count": 145
        }
      ]
    },
    {
      "cell_type": "code",
      "metadata": {
        "id": "9mZIH3xdtEB2",
        "colab_type": "code",
        "outputId": "5ee20faf-cced-4d1f-9828-86e6669e9f0d",
        "colab": {
          "base_uri": "https://localhost:8080/",
          "height": 69
        }
      },
      "source": [
        "df.columns"
      ],
      "execution_count": 0,
      "outputs": [
        {
          "output_type": "execute_result",
          "data": {
            "text/plain": [
              "Index(['#', 'Name', 'Type 1', 'Type 2', 'HP', 'Attack', 'Defense', 'Sp. Atk',\n",
              "       'Sp. Def', 'Speed', 'Generation', 'Legendary'],\n",
              "      dtype='object')"
            ]
          },
          "metadata": {
            "tags": []
          },
          "execution_count": 146
        }
      ]
    },
    {
      "cell_type": "code",
      "metadata": {
        "id": "YvI1Rnzqttey",
        "colab_type": "code",
        "colab": {}
      },
      "source": [
        ""
      ],
      "execution_count": 0,
      "outputs": []
    },
    {
      "cell_type": "code",
      "metadata": {
        "id": "IdA_lcbduhzX",
        "colab_type": "code",
        "outputId": "791597bd-6aa5-4b5c-fdaa-7e2f95acbf22",
        "colab": {
          "base_uri": "https://localhost:8080/",
          "height": 225
        }
      },
      "source": [
        "print(df.Name)"
      ],
      "execution_count": 0,
      "outputs": [
        {
          "output_type": "stream",
          "text": [
            "0                  Bulbasaur\n",
            "1                    Ivysaur\n",
            "2                   Venusaur\n",
            "3      VenusaurMega Venusaur\n",
            "4                 Charmander\n",
            "               ...          \n",
            "795                  Diancie\n",
            "796      DiancieMega Diancie\n",
            "797      HoopaHoopa Confined\n",
            "798       HoopaHoopa Unbound\n",
            "799                Volcanion\n",
            "Name: Name, Length: 800, dtype: object\n"
          ],
          "name": "stdout"
        }
      ]
    },
    {
      "cell_type": "code",
      "metadata": {
        "id": "NKm_l81XuosL",
        "colab_type": "code",
        "outputId": "6dbe4b9e-1e73-455b-cfd1-00c4fb811506",
        "colab": {
          "base_uri": "https://localhost:8080/",
          "height": 225
        }
      },
      "source": [
        "print(df['Name'])"
      ],
      "execution_count": 0,
      "outputs": [
        {
          "output_type": "stream",
          "text": [
            "0                  Bulbasaur\n",
            "1                    Ivysaur\n",
            "2                   Venusaur\n",
            "3      VenusaurMega Venusaur\n",
            "4                 Charmander\n",
            "               ...          \n",
            "795                  Diancie\n",
            "796      DiancieMega Diancie\n",
            "797      HoopaHoopa Confined\n",
            "798       HoopaHoopa Unbound\n",
            "799                Volcanion\n",
            "Name: Name, Length: 800, dtype: object\n"
          ],
          "name": "stdout"
        }
      ]
    },
    {
      "cell_type": "code",
      "metadata": {
        "id": "6FNsYQpFutph",
        "colab_type": "code",
        "outputId": "d5624f7d-e1ae-404b-b5e4-3d91bc860900",
        "colab": {
          "base_uri": "https://localhost:8080/",
          "height": 225
        }
      },
      "source": [
        "print(df['Name'], ['Type '])"
      ],
      "execution_count": 0,
      "outputs": [
        {
          "output_type": "stream",
          "text": [
            "0                  Bulbasaur\n",
            "1                    Ivysaur\n",
            "2                   Venusaur\n",
            "3      VenusaurMega Venusaur\n",
            "4                 Charmander\n",
            "               ...          \n",
            "795                  Diancie\n",
            "796      DiancieMega Diancie\n",
            "797      HoopaHoopa Confined\n",
            "798       HoopaHoopa Unbound\n",
            "799                Volcanion\n",
            "Name: Name, Length: 800, dtype: object ['Type ']\n"
          ],
          "name": "stdout"
        }
      ]
    },
    {
      "cell_type": "code",
      "metadata": {
        "id": "ChlII6RAvYbW",
        "colab_type": "code",
        "outputId": "b2ae0bc7-c409-46cc-e9e8-423e336f3aac",
        "colab": {
          "base_uri": "https://localhost:8080/",
          "height": 121
        }
      },
      "source": [
        "print(df['Name'][0:5])"
      ],
      "execution_count": 0,
      "outputs": [
        {
          "output_type": "stream",
          "text": [
            "0                Bulbasaur\n",
            "1                  Ivysaur\n",
            "2                 Venusaur\n",
            "3    VenusaurMega Venusaur\n",
            "4               Charmander\n",
            "Name: Name, dtype: object\n"
          ],
          "name": "stdout"
        }
      ]
    },
    {
      "cell_type": "code",
      "metadata": {
        "id": "E5P8haiPvePN",
        "colab_type": "code",
        "outputId": "d9bb424b-d026-45d1-a7a9-c782216cf98a",
        "colab": {
          "base_uri": "https://localhost:8080/",
          "height": 260
        }
      },
      "source": [
        "print(df[['Name','HP'][0:5]])"
      ],
      "execution_count": 0,
      "outputs": [
        {
          "output_type": "stream",
          "text": [
            "                      Name  HP\n",
            "0                Bulbasaur  45\n",
            "1                  Ivysaur  60\n",
            "2                 Venusaur  80\n",
            "3    VenusaurMega Venusaur  80\n",
            "4               Charmander  39\n",
            "..                     ...  ..\n",
            "795                Diancie  50\n",
            "796    DiancieMega Diancie  50\n",
            "797    HoopaHoopa Confined  80\n",
            "798     HoopaHoopa Unbound  80\n",
            "799              Volcanion  80\n",
            "\n",
            "[800 rows x 2 columns]\n"
          ],
          "name": "stdout"
        }
      ]
    },
    {
      "cell_type": "code",
      "metadata": {
        "id": "RgmIH3HOvvgG",
        "colab_type": "code",
        "outputId": "6c786135-760e-4cd6-c06d-5a5d048787c5",
        "colab": {
          "base_uri": "https://localhost:8080/",
          "height": 243
        }
      },
      "source": [
        "df.iloc[1]"
      ],
      "execution_count": 0,
      "outputs": [
        {
          "output_type": "execute_result",
          "data": {
            "text/plain": [
              "#                   2\n",
              "Name          Ivysaur\n",
              "Type 1          Grass\n",
              "Type 2         Poison\n",
              "HP                 60\n",
              "Attack             62\n",
              "Defense            63\n",
              "Sp. Atk            80\n",
              "Sp. Def            80\n",
              "Speed              60\n",
              "Generation          1\n",
              "Legendary       False\n",
              "Name: 1, dtype: object"
            ]
          },
          "metadata": {
            "tags": []
          },
          "execution_count": 156
        }
      ]
    },
    {
      "cell_type": "code",
      "metadata": {
        "id": "9yrfHtYjv7TB",
        "colab_type": "code",
        "outputId": "38c55bb9-4b8c-4db2-dede-38b01006c0a9",
        "colab": {
          "base_uri": "https://localhost:8080/",
          "height": 147
        }
      },
      "source": [
        "df.iloc[1:3]"
      ],
      "execution_count": 0,
      "outputs": [
        {
          "output_type": "execute_result",
          "data": {
            "text/html": [
              "<div>\n",
              "<style scoped>\n",
              "    .dataframe tbody tr th:only-of-type {\n",
              "        vertical-align: middle;\n",
              "    }\n",
              "\n",
              "    .dataframe tbody tr th {\n",
              "        vertical-align: top;\n",
              "    }\n",
              "\n",
              "    .dataframe thead th {\n",
              "        text-align: right;\n",
              "    }\n",
              "</style>\n",
              "<table border=\"1\" class=\"dataframe\">\n",
              "  <thead>\n",
              "    <tr style=\"text-align: right;\">\n",
              "      <th></th>\n",
              "      <th>#</th>\n",
              "      <th>Name</th>\n",
              "      <th>Type 1</th>\n",
              "      <th>Type 2</th>\n",
              "      <th>HP</th>\n",
              "      <th>Attack</th>\n",
              "      <th>Defense</th>\n",
              "      <th>Sp. Atk</th>\n",
              "      <th>Sp. Def</th>\n",
              "      <th>Speed</th>\n",
              "      <th>Generation</th>\n",
              "      <th>Legendary</th>\n",
              "    </tr>\n",
              "  </thead>\n",
              "  <tbody>\n",
              "    <tr>\n",
              "      <th>1</th>\n",
              "      <td>2</td>\n",
              "      <td>Ivysaur</td>\n",
              "      <td>Grass</td>\n",
              "      <td>Poison</td>\n",
              "      <td>60</td>\n",
              "      <td>62</td>\n",
              "      <td>63</td>\n",
              "      <td>80</td>\n",
              "      <td>80</td>\n",
              "      <td>60</td>\n",
              "      <td>1</td>\n",
              "      <td>False</td>\n",
              "    </tr>\n",
              "    <tr>\n",
              "      <th>2</th>\n",
              "      <td>3</td>\n",
              "      <td>Venusaur</td>\n",
              "      <td>Grass</td>\n",
              "      <td>Poison</td>\n",
              "      <td>80</td>\n",
              "      <td>82</td>\n",
              "      <td>83</td>\n",
              "      <td>100</td>\n",
              "      <td>100</td>\n",
              "      <td>80</td>\n",
              "      <td>1</td>\n",
              "      <td>False</td>\n",
              "    </tr>\n",
              "  </tbody>\n",
              "</table>\n",
              "</div>"
            ],
            "text/plain": [
              "   #      Name Type 1  Type 2  ...  Sp. Def  Speed  Generation  Legendary\n",
              "1  2   Ivysaur  Grass  Poison  ...       80     60           1      False\n",
              "2  3  Venusaur  Grass  Poison  ...      100     80           1      False\n",
              "\n",
              "[2 rows x 12 columns]"
            ]
          },
          "metadata": {
            "tags": []
          },
          "execution_count": 157
        }
      ]
    },
    {
      "cell_type": "code",
      "metadata": {
        "id": "7BDMQLjAwPrU",
        "colab_type": "code",
        "outputId": "b7df57b5-a099-4c59-a453-015c32c8ed4d",
        "colab": {
          "base_uri": "https://localhost:8080/",
          "height": 1000
        }
      },
      "source": [
        "for index, row in df.iterrows():\n",
        "  print(index,row['Name'])"
      ],
      "execution_count": 0,
      "outputs": [
        {
          "output_type": "stream",
          "text": [
            "0 Bulbasaur\n",
            "1 Ivysaur\n",
            "2 Venusaur\n",
            "3 VenusaurMega Venusaur\n",
            "4 Charmander\n",
            "5 Charmeleon\n",
            "6 Charizard\n",
            "7 CharizardMega Charizard X\n",
            "8 CharizardMega Charizard Y\n",
            "9 Squirtle\n",
            "10 Wartortle\n",
            "11 Blastoise\n",
            "12 BlastoiseMega Blastoise\n",
            "13 Caterpie\n",
            "14 Metapod\n",
            "15 Butterfree\n",
            "16 Weedle\n",
            "17 Kakuna\n",
            "18 Beedrill\n",
            "19 BeedrillMega Beedrill\n",
            "20 Pidgey\n",
            "21 Pidgeotto\n",
            "22 Pidgeot\n",
            "23 PidgeotMega Pidgeot\n",
            "24 Rattata\n",
            "25 Raticate\n",
            "26 Spearow\n",
            "27 Fearow\n",
            "28 Ekans\n",
            "29 Arbok\n",
            "30 Pikachu\n",
            "31 Raichu\n",
            "32 Sandshrew\n",
            "33 Sandslash\n",
            "34 Nidoran (Female)\n",
            "35 Nidorina\n",
            "36 Nidoqueen\n",
            "37 Nidoran (Male)\n",
            "38 Nidorino\n",
            "39 Nidoking\n",
            "40 Clefairy\n",
            "41 Clefable\n",
            "42 Vulpix\n",
            "43 Ninetales\n",
            "44 Jigglypuff\n",
            "45 Wigglytuff\n",
            "46 Zubat\n",
            "47 Golbat\n",
            "48 Oddish\n",
            "49 Gloom\n",
            "50 Vileplume\n",
            "51 Paras\n",
            "52 Parasect\n",
            "53 Venonat\n",
            "54 Venomoth\n",
            "55 Diglett\n",
            "56 Dugtrio\n",
            "57 Meowth\n",
            "58 Persian\n",
            "59 Psyduck\n",
            "60 Golduck\n",
            "61 Mankey\n",
            "62 Primeape\n",
            "63 Growlithe\n",
            "64 Arcanine\n",
            "65 Poliwag\n",
            "66 Poliwhirl\n",
            "67 Poliwrath\n",
            "68 Abra\n",
            "69 Kadabra\n",
            "70 Alakazam\n",
            "71 AlakazamMega Alakazam\n",
            "72 Machop\n",
            "73 Machoke\n",
            "74 Machamp\n",
            "75 Bellsprout\n",
            "76 Weepinbell\n",
            "77 Victreebel\n",
            "78 Tentacool\n",
            "79 Tentacruel\n",
            "80 Geodude\n",
            "81 Graveler\n",
            "82 Golem\n",
            "83 Ponyta\n",
            "84 Rapidash\n",
            "85 Slowpoke\n",
            "86 Slowbro\n",
            "87 SlowbroMega Slowbro\n",
            "88 Magnemite\n",
            "89 Magneton\n",
            "90 Farfetch'd\n",
            "91 Doduo\n",
            "92 Dodrio\n",
            "93 Seel\n",
            "94 Dewgong\n",
            "95 Grimer\n",
            "96 Muk\n",
            "97 Shellder\n",
            "98 Cloyster\n",
            "99 Gastly\n",
            "100 Haunter\n",
            "101 Gengar\n",
            "102 GengarMega Gengar\n",
            "103 Onix\n",
            "104 Drowzee\n",
            "105 Hypno\n",
            "106 Krabby\n",
            "107 Kingler\n",
            "108 Voltorb\n",
            "109 Electrode\n",
            "110 Exeggcute\n",
            "111 Exeggutor\n",
            "112 Cubone\n",
            "113 Marowak\n",
            "114 Hitmonlee\n",
            "115 Hitmonchan\n",
            "116 Lickitung\n",
            "117 Koffing\n",
            "118 Weezing\n",
            "119 Rhyhorn\n",
            "120 Rhydon\n",
            "121 Chansey\n",
            "122 Tangela\n",
            "123 Kangaskhan\n",
            "124 KangaskhanMega Kangaskhan\n",
            "125 Horsea\n",
            "126 Seadra\n",
            "127 Goldeen\n",
            "128 Seaking\n",
            "129 Staryu\n",
            "130 Starmie\n",
            "131 Mr. Mime\n",
            "132 Scyther\n",
            "133 Jynx\n",
            "134 Electabuzz\n",
            "135 Magmar\n",
            "136 Pinsir\n",
            "137 PinsirMega Pinsir\n",
            "138 Tauros\n",
            "139 Magikarp\n",
            "140 Gyarados\n",
            "141 GyaradosMega Gyarados\n",
            "142 Lapras\n",
            "143 Ditto\n",
            "144 Eevee\n",
            "145 Vaporeon\n",
            "146 Jolteon\n",
            "147 Flareon\n",
            "148 Porygon\n",
            "149 Omanyte\n",
            "150 Omastar\n",
            "151 Kabuto\n",
            "152 Kabutops\n",
            "153 Aerodactyl\n",
            "154 AerodactylMega Aerodactyl\n",
            "155 Snorlax\n",
            "156 Articuno\n",
            "157 Zapdos\n",
            "158 Moltres\n",
            "159 Dratini\n",
            "160 Dragonair\n",
            "161 Dragonite\n",
            "162 Mewtwo\n",
            "163 MewtwoMega Mewtwo X\n",
            "164 MewtwoMega Mewtwo Y\n",
            "165 Mew\n",
            "166 Chikorita\n",
            "167 Bayleef\n",
            "168 Meganium\n",
            "169 Cyndaquil\n",
            "170 Quilava\n",
            "171 Typhlosion\n",
            "172 Totodile\n",
            "173 Croconaw\n",
            "174 Feraligatr\n",
            "175 Sentret\n",
            "176 Furret\n",
            "177 Hoothoot\n",
            "178 Noctowl\n",
            "179 Ledyba\n",
            "180 Ledian\n",
            "181 Spinarak\n",
            "182 Ariados\n",
            "183 Crobat\n",
            "184 Chinchou\n",
            "185 Lanturn\n",
            "186 Pichu\n",
            "187 Cleffa\n",
            "188 Igglybuff\n",
            "189 Togepi\n",
            "190 Togetic\n",
            "191 Natu\n",
            "192 Xatu\n",
            "193 Mareep\n",
            "194 Flaaffy\n",
            "195 Ampharos\n",
            "196 AmpharosMega Ampharos\n",
            "197 Bellossom\n",
            "198 Marill\n",
            "199 Azumarill\n",
            "200 Sudowoodo\n",
            "201 Politoed\n",
            "202 Hoppip\n",
            "203 Skiploom\n",
            "204 Jumpluff\n",
            "205 Aipom\n",
            "206 Sunkern\n",
            "207 Sunflora\n",
            "208 Yanma\n",
            "209 Wooper\n",
            "210 Quagsire\n",
            "211 Espeon\n",
            "212 Umbreon\n",
            "213 Murkrow\n",
            "214 Slowking\n",
            "215 Misdreavus\n",
            "216 Unown\n",
            "217 Wobbuffet\n",
            "218 Girafarig\n",
            "219 Pineco\n",
            "220 Forretress\n",
            "221 Dunsparce\n",
            "222 Gligar\n",
            "223 Steelix\n",
            "224 SteelixMega Steelix\n",
            "225 Snubbull\n",
            "226 Granbull\n",
            "227 Qwilfish\n",
            "228 Scizor\n",
            "229 ScizorMega Scizor\n",
            "230 Shuckle\n",
            "231 Heracross\n",
            "232 HeracrossMega Heracross\n",
            "233 Sneasel\n",
            "234 Teddiursa\n",
            "235 Ursaring\n",
            "236 Slugma\n",
            "237 Magcargo\n",
            "238 Swinub\n",
            "239 Piloswine\n",
            "240 Corsola\n",
            "241 Remoraid\n",
            "242 Octillery\n",
            "243 Delibird\n",
            "244 Mantine\n",
            "245 Skarmory\n",
            "246 Houndour\n",
            "247 Houndoom\n",
            "248 HoundoomMega Houndoom\n",
            "249 Kingdra\n",
            "250 Phanpy\n",
            "251 Donphan\n",
            "252 Porygon2\n",
            "253 Stantler\n",
            "254 Smeargle\n",
            "255 Tyrogue\n",
            "256 Hitmontop\n",
            "257 Smoochum\n",
            "258 Elekid\n",
            "259 Magby\n",
            "260 Miltank\n",
            "261 Blissey\n",
            "262 Raikou\n",
            "263 Entei\n",
            "264 Suicune\n",
            "265 Larvitar\n",
            "266 Pupitar\n",
            "267 Tyranitar\n",
            "268 TyranitarMega Tyranitar\n",
            "269 Lugia\n",
            "270 Ho-oh\n",
            "271 Celebi\n",
            "272 Treecko\n",
            "273 Grovyle\n",
            "274 Sceptile\n",
            "275 SceptileMega Sceptile\n",
            "276 Torchic\n",
            "277 Combusken\n",
            "278 Blaziken\n",
            "279 BlazikenMega Blaziken\n",
            "280 Mudkip\n",
            "281 Marshtomp\n",
            "282 Swampert\n",
            "283 SwampertMega Swampert\n",
            "284 Poochyena\n",
            "285 Mightyena\n",
            "286 Zigzagoon\n",
            "287 Linoone\n",
            "288 Wurmple\n",
            "289 Silcoon\n",
            "290 Beautifly\n",
            "291 Cascoon\n",
            "292 Dustox\n",
            "293 Lotad\n",
            "294 Lombre\n",
            "295 Ludicolo\n",
            "296 Seedot\n",
            "297 Nuzleaf\n",
            "298 Shiftry\n",
            "299 Taillow\n",
            "300 Swellow\n",
            "301 Wingull\n",
            "302 Pelipper\n",
            "303 Ralts\n",
            "304 Kirlia\n",
            "305 Gardevoir\n",
            "306 GardevoirMega Gardevoir\n",
            "307 Surskit\n",
            "308 Masquerain\n",
            "309 Shroomish\n",
            "310 Breloom\n",
            "311 Slakoth\n",
            "312 Vigoroth\n",
            "313 Slaking\n",
            "314 Nincada\n",
            "315 Ninjask\n",
            "316 Shedinja\n",
            "317 Whismur\n",
            "318 Loudred\n",
            "319 Exploud\n",
            "320 Makuhita\n",
            "321 Hariyama\n",
            "322 Azurill\n",
            "323 Nosepass\n",
            "324 Skitty\n",
            "325 Delcatty\n",
            "326 Sableye\n",
            "327 SableyeMega Sableye\n",
            "328 Mawile\n",
            "329 MawileMega Mawile\n",
            "330 Aron\n",
            "331 Lairon\n",
            "332 Aggron\n",
            "333 AggronMega Aggron\n",
            "334 Meditite\n",
            "335 Medicham\n",
            "336 MedichamMega Medicham\n",
            "337 Electrike\n",
            "338 Manectric\n",
            "339 ManectricMega Manectric\n",
            "340 Plusle\n",
            "341 Minun\n",
            "342 Volbeat\n",
            "343 Illumise\n",
            "344 Roselia\n",
            "345 Gulpin\n",
            "346 Swalot\n",
            "347 Carvanha\n",
            "348 Sharpedo\n",
            "349 SharpedoMega Sharpedo\n",
            "350 Wailmer\n",
            "351 Wailord\n",
            "352 Numel\n",
            "353 Camerupt\n",
            "354 CameruptMega Camerupt\n",
            "355 Torkoal\n",
            "356 Spoink\n",
            "357 Grumpig\n",
            "358 Spinda\n",
            "359 Trapinch\n",
            "360 Vibrava\n",
            "361 Flygon\n",
            "362 Cacnea\n",
            "363 Cacturne\n",
            "364 Swablu\n",
            "365 Altaria\n",
            "366 AltariaMega Altaria\n",
            "367 Zangoose\n",
            "368 Seviper\n",
            "369 Lunatone\n",
            "370 Solrock\n",
            "371 Barboach\n",
            "372 Whiscash\n",
            "373 Corphish\n",
            "374 Crawdaunt\n",
            "375 Baltoy\n",
            "376 Claydol\n",
            "377 Lileep\n",
            "378 Cradily\n",
            "379 Anorith\n",
            "380 Armaldo\n",
            "381 Feebas\n",
            "382 Milotic\n",
            "383 Castform\n",
            "384 Kecleon\n",
            "385 Shuppet\n",
            "386 Banette\n",
            "387 BanetteMega Banette\n",
            "388 Duskull\n",
            "389 Dusclops\n",
            "390 Tropius\n",
            "391 Chimecho\n",
            "392 Absol\n",
            "393 AbsolMega Absol\n",
            "394 Wynaut\n",
            "395 Snorunt\n",
            "396 Glalie\n",
            "397 GlalieMega Glalie\n",
            "398 Spheal\n",
            "399 Sealeo\n",
            "400 Walrein\n",
            "401 Clamperl\n",
            "402 Huntail\n",
            "403 Gorebyss\n",
            "404 Relicanth\n",
            "405 Luvdisc\n",
            "406 Bagon\n",
            "407 Shelgon\n",
            "408 Salamence\n",
            "409 SalamenceMega Salamence\n",
            "410 Beldum\n",
            "411 Metang\n",
            "412 Metagross\n",
            "413 MetagrossMega Metagross\n",
            "414 Regirock\n",
            "415 Regice\n",
            "416 Registeel\n",
            "417 Latias\n",
            "418 LatiasMega Latias\n",
            "419 Latios\n",
            "420 LatiosMega Latios\n",
            "421 Kyogre\n",
            "422 KyogrePrimal Kyogre\n",
            "423 Groudon\n",
            "424 GroudonPrimal Groudon\n",
            "425 Rayquaza\n",
            "426 RayquazaMega Rayquaza\n",
            "427 Jirachi\n",
            "428 DeoxysNormal Forme\n",
            "429 DeoxysAttack Forme\n",
            "430 DeoxysDefense Forme\n",
            "431 DeoxysSpeed Forme\n",
            "432 Turtwig\n",
            "433 Grotle\n",
            "434 Torterra\n",
            "435 Chimchar\n",
            "436 Monferno\n",
            "437 Infernape\n",
            "438 Piplup\n",
            "439 Prinplup\n",
            "440 Empoleon\n",
            "441 Starly\n",
            "442 Staravia\n",
            "443 Staraptor\n",
            "444 Bidoof\n",
            "445 Bibarel\n",
            "446 Kricketot\n",
            "447 Kricketune\n",
            "448 Shinx\n",
            "449 Luxio\n",
            "450 Luxray\n",
            "451 Budew\n",
            "452 Roserade\n",
            "453 Cranidos\n",
            "454 Rampardos\n",
            "455 Shieldon\n",
            "456 Bastiodon\n",
            "457 Burmy\n",
            "458 WormadamPlant Cloak\n",
            "459 WormadamSandy Cloak\n",
            "460 WormadamTrash Cloak\n",
            "461 Mothim\n",
            "462 Combee\n",
            "463 Vespiquen\n",
            "464 Pachirisu\n",
            "465 Buizel\n",
            "466 Floatzel\n",
            "467 Cherubi\n",
            "468 Cherrim\n",
            "469 Shellos\n",
            "470 Gastrodon\n",
            "471 Ambipom\n",
            "472 Drifloon\n",
            "473 Drifblim\n",
            "474 Buneary\n",
            "475 Lopunny\n",
            "476 LopunnyMega Lopunny\n",
            "477 Mismagius\n",
            "478 Honchkrow\n",
            "479 Glameow\n",
            "480 Purugly\n",
            "481 Chingling\n",
            "482 Stunky\n",
            "483 Skuntank\n",
            "484 Bronzor\n",
            "485 Bronzong\n",
            "486 Bonsly\n",
            "487 Mime Jr.\n",
            "488 Happiny\n",
            "489 Chatot\n",
            "490 Spiritomb\n",
            "491 Gible\n",
            "492 Gabite\n",
            "493 Garchomp\n",
            "494 GarchompMega Garchomp\n",
            "495 Munchlax\n",
            "496 Riolu\n",
            "497 Lucario\n",
            "498 LucarioMega Lucario\n",
            "499 Hippopotas\n",
            "500 Hippowdon\n",
            "501 Skorupi\n",
            "502 Drapion\n",
            "503 Croagunk\n",
            "504 Toxicroak\n",
            "505 Carnivine\n",
            "506 Finneon\n",
            "507 Lumineon\n",
            "508 Mantyke\n",
            "509 Snover\n",
            "510 Abomasnow\n",
            "511 AbomasnowMega Abomasnow\n",
            "512 Weavile\n",
            "513 Magnezone\n",
            "514 Lickilicky\n",
            "515 Rhyperior\n",
            "516 Tangrowth\n",
            "517 Electivire\n",
            "518 Magmortar\n",
            "519 Togekiss\n",
            "520 Yanmega\n",
            "521 Leafeon\n",
            "522 Glaceon\n",
            "523 Gliscor\n",
            "524 Mamoswine\n",
            "525 Porygon-Z\n",
            "526 Gallade\n",
            "527 GalladeMega Gallade\n",
            "528 Probopass\n",
            "529 Dusknoir\n",
            "530 Froslass\n",
            "531 Rotom\n",
            "532 RotomHeat Rotom\n",
            "533 RotomWash Rotom\n",
            "534 RotomFrost Rotom\n",
            "535 RotomFan Rotom\n",
            "536 RotomMow Rotom\n",
            "537 Uxie\n",
            "538 Mesprit\n",
            "539 Azelf\n",
            "540 Dialga\n",
            "541 Palkia\n",
            "542 Heatran\n",
            "543 Regigigas\n",
            "544 GiratinaAltered Forme\n",
            "545 GiratinaOrigin Forme\n",
            "546 Cresselia\n",
            "547 Phione\n",
            "548 Manaphy\n",
            "549 Darkrai\n",
            "550 ShayminLand Forme\n",
            "551 ShayminSky Forme\n",
            "552 Arceus\n",
            "553 Victini\n",
            "554 Snivy\n",
            "555 Servine\n",
            "556 Serperior\n",
            "557 Tepig\n",
            "558 Pignite\n",
            "559 Emboar\n",
            "560 Oshawott\n",
            "561 Dewott\n",
            "562 Samurott\n",
            "563 Patrat\n",
            "564 Watchog\n",
            "565 Lillipup\n",
            "566 Herdier\n",
            "567 Stoutland\n",
            "568 Purrloin\n",
            "569 Liepard\n",
            "570 Pansage\n",
            "571 Simisage\n",
            "572 Pansear\n",
            "573 Simisear\n",
            "574 Panpour\n",
            "575 Simipour\n",
            "576 Munna\n",
            "577 Musharna\n",
            "578 Pidove\n",
            "579 Tranquill\n",
            "580 Unfezant\n",
            "581 Blitzle\n",
            "582 Zebstrika\n",
            "583 Roggenrola\n",
            "584 Boldore\n",
            "585 Gigalith\n",
            "586 Woobat\n",
            "587 Swoobat\n",
            "588 Drilbur\n",
            "589 Excadrill\n",
            "590 Audino\n",
            "591 AudinoMega Audino\n",
            "592 Timburr\n",
            "593 Gurdurr\n",
            "594 Conkeldurr\n",
            "595 Tympole\n",
            "596 Palpitoad\n",
            "597 Seismitoad\n",
            "598 Throh\n",
            "599 Sawk\n",
            "600 Sewaddle\n",
            "601 Swadloon\n",
            "602 Leavanny\n",
            "603 Venipede\n",
            "604 Whirlipede\n",
            "605 Scolipede\n",
            "606 Cottonee\n",
            "607 Whimsicott\n",
            "608 Petilil\n",
            "609 Lilligant\n",
            "610 Basculin\n",
            "611 Sandile\n",
            "612 Krokorok\n",
            "613 Krookodile\n",
            "614 Darumaka\n",
            "615 DarmanitanStandard Mode\n",
            "616 DarmanitanZen Mode\n",
            "617 Maractus\n",
            "618 Dwebble\n",
            "619 Crustle\n",
            "620 Scraggy\n",
            "621 Scrafty\n",
            "622 Sigilyph\n",
            "623 Yamask\n",
            "624 Cofagrigus\n",
            "625 Tirtouga\n",
            "626 Carracosta\n",
            "627 Archen\n",
            "628 Archeops\n",
            "629 Trubbish\n",
            "630 Garbodor\n",
            "631 Zorua\n",
            "632 Zoroark\n",
            "633 Minccino\n",
            "634 Cinccino\n",
            "635 Gothita\n",
            "636 Gothorita\n",
            "637 Gothitelle\n",
            "638 Solosis\n",
            "639 Duosion\n",
            "640 Reuniclus\n",
            "641 Ducklett\n",
            "642 Swanna\n",
            "643 Vanillite\n",
            "644 Vanillish\n",
            "645 Vanilluxe\n",
            "646 Deerling\n",
            "647 Sawsbuck\n",
            "648 Emolga\n",
            "649 Karrablast\n",
            "650 Escavalier\n",
            "651 Foongus\n",
            "652 Amoonguss\n",
            "653 Frillish\n",
            "654 Jellicent\n",
            "655 Alomomola\n",
            "656 Joltik\n",
            "657 Galvantula\n",
            "658 Ferroseed\n",
            "659 Ferrothorn\n",
            "660 Klink\n",
            "661 Klang\n",
            "662 Klinklang\n",
            "663 Tynamo\n",
            "664 Eelektrik\n",
            "665 Eelektross\n",
            "666 Elgyem\n",
            "667 Beheeyem\n",
            "668 Litwick\n",
            "669 Lampent\n",
            "670 Chandelure\n",
            "671 Axew\n",
            "672 Fraxure\n",
            "673 Haxorus\n",
            "674 Cubchoo\n",
            "675 Beartic\n",
            "676 Cryogonal\n",
            "677 Shelmet\n",
            "678 Accelgor\n",
            "679 Stunfisk\n",
            "680 Mienfoo\n",
            "681 Mienshao\n",
            "682 Druddigon\n",
            "683 Golett\n",
            "684 Golurk\n",
            "685 Pawniard\n",
            "686 Bisharp\n",
            "687 Bouffalant\n",
            "688 Rufflet\n",
            "689 Braviary\n",
            "690 Vullaby\n",
            "691 Mandibuzz\n",
            "692 Heatmor\n",
            "693 Durant\n",
            "694 Deino\n",
            "695 Zweilous\n",
            "696 Hydreigon\n",
            "697 Larvesta\n",
            "698 Volcarona\n",
            "699 Cobalion\n",
            "700 Terrakion\n",
            "701 Virizion\n",
            "702 TornadusIncarnate Forme\n",
            "703 TornadusTherian Forme\n",
            "704 ThundurusIncarnate Forme\n",
            "705 ThundurusTherian Forme\n",
            "706 Reshiram\n",
            "707 Zekrom\n",
            "708 LandorusIncarnate Forme\n",
            "709 LandorusTherian Forme\n",
            "710 Kyurem\n",
            "711 KyuremBlack Kyurem\n",
            "712 KyuremWhite Kyurem\n",
            "713 KeldeoOrdinary Forme\n",
            "714 KeldeoResolute Forme\n",
            "715 MeloettaAria Forme\n",
            "716 MeloettaPirouette Forme\n",
            "717 Genesect\n",
            "718 Chespin\n",
            "719 Quilladin\n",
            "720 Chesnaught\n",
            "721 Fennekin\n",
            "722 Braixen\n",
            "723 Delphox\n",
            "724 Froakie\n",
            "725 Frogadier\n",
            "726 Greninja\n",
            "727 Bunnelby\n",
            "728 Diggersby\n",
            "729 Fletchling\n",
            "730 Fletchinder\n",
            "731 Talonflame\n",
            "732 Scatterbug\n",
            "733 Spewpa\n",
            "734 Vivillon\n",
            "735 Litleo\n",
            "736 Pyroar\n",
            "737 Flabébé\n",
            "738 Floette\n",
            "739 Florges\n",
            "740 Skiddo\n",
            "741 Gogoat\n",
            "742 Pancham\n",
            "743 Pangoro\n",
            "744 Furfrou\n",
            "745 Espurr\n",
            "746 MeowsticMale\n",
            "747 MeowsticFemale\n",
            "748 Honedge\n",
            "749 Doublade\n",
            "750 AegislashBlade Forme\n",
            "751 AegislashShield Forme\n",
            "752 Spritzee\n",
            "753 Aromatisse\n",
            "754 Swirlix\n",
            "755 Slurpuff\n",
            "756 Inkay\n",
            "757 Malamar\n",
            "758 Binacle\n",
            "759 Barbaracle\n",
            "760 Skrelp\n",
            "761 Dragalge\n",
            "762 Clauncher\n",
            "763 Clawitzer\n",
            "764 Helioptile\n",
            "765 Heliolisk\n",
            "766 Tyrunt\n",
            "767 Tyrantrum\n",
            "768 Amaura\n",
            "769 Aurorus\n",
            "770 Sylveon\n",
            "771 Hawlucha\n",
            "772 Dedenne\n",
            "773 Carbink\n",
            "774 Goomy\n",
            "775 Sliggoo\n",
            "776 Goodra\n",
            "777 Klefki\n",
            "778 Phantump\n",
            "779 Trevenant\n",
            "780 PumpkabooAverage Size\n",
            "781 PumpkabooSmall Size\n",
            "782 PumpkabooLarge Size\n",
            "783 PumpkabooSuper Size\n",
            "784 GourgeistAverage Size\n",
            "785 GourgeistSmall Size\n",
            "786 GourgeistLarge Size\n",
            "787 GourgeistSuper Size\n",
            "788 Bergmite\n",
            "789 Avalugg\n",
            "790 Noibat\n",
            "791 Noivern\n",
            "792 Xerneas\n",
            "793 Yveltal\n",
            "794 Zygarde50% Forme\n",
            "795 Diancie\n",
            "796 DiancieMega Diancie\n",
            "797 HoopaHoopa Confined\n",
            "798 HoopaHoopa Unbound\n",
            "799 Volcanion\n"
          ],
          "name": "stdout"
        }
      ]
    },
    {
      "cell_type": "code",
      "metadata": {
        "id": "__L5obUmwrJa",
        "colab_type": "code",
        "outputId": "a466471e-633c-4a29-8e3b-0ffcbfefcdd2",
        "colab": {
          "base_uri": "https://localhost:8080/",
          "height": 1000
        }
      },
      "source": [
        "df.loc[df['Type 1'] == 'Fire']"
      ],
      "execution_count": 0,
      "outputs": [
        {
          "output_type": "execute_result",
          "data": {
            "text/html": [
              "<div>\n",
              "<style scoped>\n",
              "    .dataframe tbody tr th:only-of-type {\n",
              "        vertical-align: middle;\n",
              "    }\n",
              "\n",
              "    .dataframe tbody tr th {\n",
              "        vertical-align: top;\n",
              "    }\n",
              "\n",
              "    .dataframe thead th {\n",
              "        text-align: right;\n",
              "    }\n",
              "</style>\n",
              "<table border=\"1\" class=\"dataframe\">\n",
              "  <thead>\n",
              "    <tr style=\"text-align: right;\">\n",
              "      <th></th>\n",
              "      <th>#</th>\n",
              "      <th>Name</th>\n",
              "      <th>Type 1</th>\n",
              "      <th>Type 2</th>\n",
              "      <th>HP</th>\n",
              "      <th>Attack</th>\n",
              "      <th>Defense</th>\n",
              "      <th>Sp. Atk</th>\n",
              "      <th>Sp. Def</th>\n",
              "      <th>Speed</th>\n",
              "      <th>Generation</th>\n",
              "      <th>Legendary</th>\n",
              "    </tr>\n",
              "  </thead>\n",
              "  <tbody>\n",
              "    <tr>\n",
              "      <th>4</th>\n",
              "      <td>4</td>\n",
              "      <td>Charmander</td>\n",
              "      <td>Fire</td>\n",
              "      <td>NaN</td>\n",
              "      <td>39</td>\n",
              "      <td>52</td>\n",
              "      <td>43</td>\n",
              "      <td>60</td>\n",
              "      <td>50</td>\n",
              "      <td>65</td>\n",
              "      <td>1</td>\n",
              "      <td>False</td>\n",
              "    </tr>\n",
              "    <tr>\n",
              "      <th>5</th>\n",
              "      <td>5</td>\n",
              "      <td>Charmeleon</td>\n",
              "      <td>Fire</td>\n",
              "      <td>NaN</td>\n",
              "      <td>58</td>\n",
              "      <td>64</td>\n",
              "      <td>58</td>\n",
              "      <td>80</td>\n",
              "      <td>65</td>\n",
              "      <td>80</td>\n",
              "      <td>1</td>\n",
              "      <td>False</td>\n",
              "    </tr>\n",
              "    <tr>\n",
              "      <th>6</th>\n",
              "      <td>6</td>\n",
              "      <td>Charizard</td>\n",
              "      <td>Fire</td>\n",
              "      <td>Flying</td>\n",
              "      <td>78</td>\n",
              "      <td>84</td>\n",
              "      <td>78</td>\n",
              "      <td>109</td>\n",
              "      <td>85</td>\n",
              "      <td>100</td>\n",
              "      <td>1</td>\n",
              "      <td>False</td>\n",
              "    </tr>\n",
              "    <tr>\n",
              "      <th>7</th>\n",
              "      <td>6</td>\n",
              "      <td>CharizardMega Charizard X</td>\n",
              "      <td>Fire</td>\n",
              "      <td>Dragon</td>\n",
              "      <td>78</td>\n",
              "      <td>130</td>\n",
              "      <td>111</td>\n",
              "      <td>130</td>\n",
              "      <td>85</td>\n",
              "      <td>100</td>\n",
              "      <td>1</td>\n",
              "      <td>False</td>\n",
              "    </tr>\n",
              "    <tr>\n",
              "      <th>8</th>\n",
              "      <td>6</td>\n",
              "      <td>CharizardMega Charizard Y</td>\n",
              "      <td>Fire</td>\n",
              "      <td>Flying</td>\n",
              "      <td>78</td>\n",
              "      <td>104</td>\n",
              "      <td>78</td>\n",
              "      <td>159</td>\n",
              "      <td>115</td>\n",
              "      <td>100</td>\n",
              "      <td>1</td>\n",
              "      <td>False</td>\n",
              "    </tr>\n",
              "    <tr>\n",
              "      <th>42</th>\n",
              "      <td>37</td>\n",
              "      <td>Vulpix</td>\n",
              "      <td>Fire</td>\n",
              "      <td>NaN</td>\n",
              "      <td>38</td>\n",
              "      <td>41</td>\n",
              "      <td>40</td>\n",
              "      <td>50</td>\n",
              "      <td>65</td>\n",
              "      <td>65</td>\n",
              "      <td>1</td>\n",
              "      <td>False</td>\n",
              "    </tr>\n",
              "    <tr>\n",
              "      <th>43</th>\n",
              "      <td>38</td>\n",
              "      <td>Ninetales</td>\n",
              "      <td>Fire</td>\n",
              "      <td>NaN</td>\n",
              "      <td>73</td>\n",
              "      <td>76</td>\n",
              "      <td>75</td>\n",
              "      <td>81</td>\n",
              "      <td>100</td>\n",
              "      <td>100</td>\n",
              "      <td>1</td>\n",
              "      <td>False</td>\n",
              "    </tr>\n",
              "    <tr>\n",
              "      <th>63</th>\n",
              "      <td>58</td>\n",
              "      <td>Growlithe</td>\n",
              "      <td>Fire</td>\n",
              "      <td>NaN</td>\n",
              "      <td>55</td>\n",
              "      <td>70</td>\n",
              "      <td>45</td>\n",
              "      <td>70</td>\n",
              "      <td>50</td>\n",
              "      <td>60</td>\n",
              "      <td>1</td>\n",
              "      <td>False</td>\n",
              "    </tr>\n",
              "    <tr>\n",
              "      <th>64</th>\n",
              "      <td>59</td>\n",
              "      <td>Arcanine</td>\n",
              "      <td>Fire</td>\n",
              "      <td>NaN</td>\n",
              "      <td>90</td>\n",
              "      <td>110</td>\n",
              "      <td>80</td>\n",
              "      <td>100</td>\n",
              "      <td>80</td>\n",
              "      <td>95</td>\n",
              "      <td>1</td>\n",
              "      <td>False</td>\n",
              "    </tr>\n",
              "    <tr>\n",
              "      <th>83</th>\n",
              "      <td>77</td>\n",
              "      <td>Ponyta</td>\n",
              "      <td>Fire</td>\n",
              "      <td>NaN</td>\n",
              "      <td>50</td>\n",
              "      <td>85</td>\n",
              "      <td>55</td>\n",
              "      <td>65</td>\n",
              "      <td>65</td>\n",
              "      <td>90</td>\n",
              "      <td>1</td>\n",
              "      <td>False</td>\n",
              "    </tr>\n",
              "    <tr>\n",
              "      <th>84</th>\n",
              "      <td>78</td>\n",
              "      <td>Rapidash</td>\n",
              "      <td>Fire</td>\n",
              "      <td>NaN</td>\n",
              "      <td>65</td>\n",
              "      <td>100</td>\n",
              "      <td>70</td>\n",
              "      <td>80</td>\n",
              "      <td>80</td>\n",
              "      <td>105</td>\n",
              "      <td>1</td>\n",
              "      <td>False</td>\n",
              "    </tr>\n",
              "    <tr>\n",
              "      <th>135</th>\n",
              "      <td>126</td>\n",
              "      <td>Magmar</td>\n",
              "      <td>Fire</td>\n",
              "      <td>NaN</td>\n",
              "      <td>65</td>\n",
              "      <td>95</td>\n",
              "      <td>57</td>\n",
              "      <td>100</td>\n",
              "      <td>85</td>\n",
              "      <td>93</td>\n",
              "      <td>1</td>\n",
              "      <td>False</td>\n",
              "    </tr>\n",
              "    <tr>\n",
              "      <th>147</th>\n",
              "      <td>136</td>\n",
              "      <td>Flareon</td>\n",
              "      <td>Fire</td>\n",
              "      <td>NaN</td>\n",
              "      <td>65</td>\n",
              "      <td>130</td>\n",
              "      <td>60</td>\n",
              "      <td>95</td>\n",
              "      <td>110</td>\n",
              "      <td>65</td>\n",
              "      <td>1</td>\n",
              "      <td>False</td>\n",
              "    </tr>\n",
              "    <tr>\n",
              "      <th>158</th>\n",
              "      <td>146</td>\n",
              "      <td>Moltres</td>\n",
              "      <td>Fire</td>\n",
              "      <td>Flying</td>\n",
              "      <td>90</td>\n",
              "      <td>100</td>\n",
              "      <td>90</td>\n",
              "      <td>125</td>\n",
              "      <td>85</td>\n",
              "      <td>90</td>\n",
              "      <td>1</td>\n",
              "      <td>True</td>\n",
              "    </tr>\n",
              "    <tr>\n",
              "      <th>169</th>\n",
              "      <td>155</td>\n",
              "      <td>Cyndaquil</td>\n",
              "      <td>Fire</td>\n",
              "      <td>NaN</td>\n",
              "      <td>39</td>\n",
              "      <td>52</td>\n",
              "      <td>43</td>\n",
              "      <td>60</td>\n",
              "      <td>50</td>\n",
              "      <td>65</td>\n",
              "      <td>2</td>\n",
              "      <td>False</td>\n",
              "    </tr>\n",
              "    <tr>\n",
              "      <th>170</th>\n",
              "      <td>156</td>\n",
              "      <td>Quilava</td>\n",
              "      <td>Fire</td>\n",
              "      <td>NaN</td>\n",
              "      <td>58</td>\n",
              "      <td>64</td>\n",
              "      <td>58</td>\n",
              "      <td>80</td>\n",
              "      <td>65</td>\n",
              "      <td>80</td>\n",
              "      <td>2</td>\n",
              "      <td>False</td>\n",
              "    </tr>\n",
              "    <tr>\n",
              "      <th>171</th>\n",
              "      <td>157</td>\n",
              "      <td>Typhlosion</td>\n",
              "      <td>Fire</td>\n",
              "      <td>NaN</td>\n",
              "      <td>78</td>\n",
              "      <td>84</td>\n",
              "      <td>78</td>\n",
              "      <td>109</td>\n",
              "      <td>85</td>\n",
              "      <td>100</td>\n",
              "      <td>2</td>\n",
              "      <td>False</td>\n",
              "    </tr>\n",
              "    <tr>\n",
              "      <th>236</th>\n",
              "      <td>218</td>\n",
              "      <td>Slugma</td>\n",
              "      <td>Fire</td>\n",
              "      <td>NaN</td>\n",
              "      <td>40</td>\n",
              "      <td>40</td>\n",
              "      <td>40</td>\n",
              "      <td>70</td>\n",
              "      <td>40</td>\n",
              "      <td>20</td>\n",
              "      <td>2</td>\n",
              "      <td>False</td>\n",
              "    </tr>\n",
              "    <tr>\n",
              "      <th>237</th>\n",
              "      <td>219</td>\n",
              "      <td>Magcargo</td>\n",
              "      <td>Fire</td>\n",
              "      <td>Rock</td>\n",
              "      <td>50</td>\n",
              "      <td>50</td>\n",
              "      <td>120</td>\n",
              "      <td>80</td>\n",
              "      <td>80</td>\n",
              "      <td>30</td>\n",
              "      <td>2</td>\n",
              "      <td>False</td>\n",
              "    </tr>\n",
              "    <tr>\n",
              "      <th>259</th>\n",
              "      <td>240</td>\n",
              "      <td>Magby</td>\n",
              "      <td>Fire</td>\n",
              "      <td>NaN</td>\n",
              "      <td>45</td>\n",
              "      <td>75</td>\n",
              "      <td>37</td>\n",
              "      <td>70</td>\n",
              "      <td>55</td>\n",
              "      <td>83</td>\n",
              "      <td>2</td>\n",
              "      <td>False</td>\n",
              "    </tr>\n",
              "    <tr>\n",
              "      <th>263</th>\n",
              "      <td>244</td>\n",
              "      <td>Entei</td>\n",
              "      <td>Fire</td>\n",
              "      <td>NaN</td>\n",
              "      <td>115</td>\n",
              "      <td>115</td>\n",
              "      <td>85</td>\n",
              "      <td>90</td>\n",
              "      <td>75</td>\n",
              "      <td>100</td>\n",
              "      <td>2</td>\n",
              "      <td>True</td>\n",
              "    </tr>\n",
              "    <tr>\n",
              "      <th>270</th>\n",
              "      <td>250</td>\n",
              "      <td>Ho-oh</td>\n",
              "      <td>Fire</td>\n",
              "      <td>Flying</td>\n",
              "      <td>106</td>\n",
              "      <td>130</td>\n",
              "      <td>90</td>\n",
              "      <td>110</td>\n",
              "      <td>154</td>\n",
              "      <td>90</td>\n",
              "      <td>2</td>\n",
              "      <td>True</td>\n",
              "    </tr>\n",
              "    <tr>\n",
              "      <th>276</th>\n",
              "      <td>255</td>\n",
              "      <td>Torchic</td>\n",
              "      <td>Fire</td>\n",
              "      <td>NaN</td>\n",
              "      <td>45</td>\n",
              "      <td>60</td>\n",
              "      <td>40</td>\n",
              "      <td>70</td>\n",
              "      <td>50</td>\n",
              "      <td>45</td>\n",
              "      <td>3</td>\n",
              "      <td>False</td>\n",
              "    </tr>\n",
              "    <tr>\n",
              "      <th>277</th>\n",
              "      <td>256</td>\n",
              "      <td>Combusken</td>\n",
              "      <td>Fire</td>\n",
              "      <td>Fighting</td>\n",
              "      <td>60</td>\n",
              "      <td>85</td>\n",
              "      <td>60</td>\n",
              "      <td>85</td>\n",
              "      <td>60</td>\n",
              "      <td>55</td>\n",
              "      <td>3</td>\n",
              "      <td>False</td>\n",
              "    </tr>\n",
              "    <tr>\n",
              "      <th>278</th>\n",
              "      <td>257</td>\n",
              "      <td>Blaziken</td>\n",
              "      <td>Fire</td>\n",
              "      <td>Fighting</td>\n",
              "      <td>80</td>\n",
              "      <td>120</td>\n",
              "      <td>70</td>\n",
              "      <td>110</td>\n",
              "      <td>70</td>\n",
              "      <td>80</td>\n",
              "      <td>3</td>\n",
              "      <td>False</td>\n",
              "    </tr>\n",
              "    <tr>\n",
              "      <th>279</th>\n",
              "      <td>257</td>\n",
              "      <td>BlazikenMega Blaziken</td>\n",
              "      <td>Fire</td>\n",
              "      <td>Fighting</td>\n",
              "      <td>80</td>\n",
              "      <td>160</td>\n",
              "      <td>80</td>\n",
              "      <td>130</td>\n",
              "      <td>80</td>\n",
              "      <td>100</td>\n",
              "      <td>3</td>\n",
              "      <td>False</td>\n",
              "    </tr>\n",
              "    <tr>\n",
              "      <th>352</th>\n",
              "      <td>322</td>\n",
              "      <td>Numel</td>\n",
              "      <td>Fire</td>\n",
              "      <td>Ground</td>\n",
              "      <td>60</td>\n",
              "      <td>60</td>\n",
              "      <td>40</td>\n",
              "      <td>65</td>\n",
              "      <td>45</td>\n",
              "      <td>35</td>\n",
              "      <td>3</td>\n",
              "      <td>False</td>\n",
              "    </tr>\n",
              "    <tr>\n",
              "      <th>353</th>\n",
              "      <td>323</td>\n",
              "      <td>Camerupt</td>\n",
              "      <td>Fire</td>\n",
              "      <td>Ground</td>\n",
              "      <td>70</td>\n",
              "      <td>100</td>\n",
              "      <td>70</td>\n",
              "      <td>105</td>\n",
              "      <td>75</td>\n",
              "      <td>40</td>\n",
              "      <td>3</td>\n",
              "      <td>False</td>\n",
              "    </tr>\n",
              "    <tr>\n",
              "      <th>354</th>\n",
              "      <td>323</td>\n",
              "      <td>CameruptMega Camerupt</td>\n",
              "      <td>Fire</td>\n",
              "      <td>Ground</td>\n",
              "      <td>70</td>\n",
              "      <td>120</td>\n",
              "      <td>100</td>\n",
              "      <td>145</td>\n",
              "      <td>105</td>\n",
              "      <td>20</td>\n",
              "      <td>3</td>\n",
              "      <td>False</td>\n",
              "    </tr>\n",
              "    <tr>\n",
              "      <th>355</th>\n",
              "      <td>324</td>\n",
              "      <td>Torkoal</td>\n",
              "      <td>Fire</td>\n",
              "      <td>NaN</td>\n",
              "      <td>70</td>\n",
              "      <td>85</td>\n",
              "      <td>140</td>\n",
              "      <td>85</td>\n",
              "      <td>70</td>\n",
              "      <td>20</td>\n",
              "      <td>3</td>\n",
              "      <td>False</td>\n",
              "    </tr>\n",
              "    <tr>\n",
              "      <th>435</th>\n",
              "      <td>390</td>\n",
              "      <td>Chimchar</td>\n",
              "      <td>Fire</td>\n",
              "      <td>NaN</td>\n",
              "      <td>44</td>\n",
              "      <td>58</td>\n",
              "      <td>44</td>\n",
              "      <td>58</td>\n",
              "      <td>44</td>\n",
              "      <td>61</td>\n",
              "      <td>4</td>\n",
              "      <td>False</td>\n",
              "    </tr>\n",
              "    <tr>\n",
              "      <th>436</th>\n",
              "      <td>391</td>\n",
              "      <td>Monferno</td>\n",
              "      <td>Fire</td>\n",
              "      <td>Fighting</td>\n",
              "      <td>64</td>\n",
              "      <td>78</td>\n",
              "      <td>52</td>\n",
              "      <td>78</td>\n",
              "      <td>52</td>\n",
              "      <td>81</td>\n",
              "      <td>4</td>\n",
              "      <td>False</td>\n",
              "    </tr>\n",
              "    <tr>\n",
              "      <th>437</th>\n",
              "      <td>392</td>\n",
              "      <td>Infernape</td>\n",
              "      <td>Fire</td>\n",
              "      <td>Fighting</td>\n",
              "      <td>76</td>\n",
              "      <td>104</td>\n",
              "      <td>71</td>\n",
              "      <td>104</td>\n",
              "      <td>71</td>\n",
              "      <td>108</td>\n",
              "      <td>4</td>\n",
              "      <td>False</td>\n",
              "    </tr>\n",
              "    <tr>\n",
              "      <th>518</th>\n",
              "      <td>467</td>\n",
              "      <td>Magmortar</td>\n",
              "      <td>Fire</td>\n",
              "      <td>NaN</td>\n",
              "      <td>75</td>\n",
              "      <td>95</td>\n",
              "      <td>67</td>\n",
              "      <td>125</td>\n",
              "      <td>95</td>\n",
              "      <td>83</td>\n",
              "      <td>4</td>\n",
              "      <td>False</td>\n",
              "    </tr>\n",
              "    <tr>\n",
              "      <th>542</th>\n",
              "      <td>485</td>\n",
              "      <td>Heatran</td>\n",
              "      <td>Fire</td>\n",
              "      <td>Steel</td>\n",
              "      <td>91</td>\n",
              "      <td>90</td>\n",
              "      <td>106</td>\n",
              "      <td>130</td>\n",
              "      <td>106</td>\n",
              "      <td>77</td>\n",
              "      <td>4</td>\n",
              "      <td>True</td>\n",
              "    </tr>\n",
              "    <tr>\n",
              "      <th>557</th>\n",
              "      <td>498</td>\n",
              "      <td>Tepig</td>\n",
              "      <td>Fire</td>\n",
              "      <td>NaN</td>\n",
              "      <td>65</td>\n",
              "      <td>63</td>\n",
              "      <td>45</td>\n",
              "      <td>45</td>\n",
              "      <td>45</td>\n",
              "      <td>45</td>\n",
              "      <td>5</td>\n",
              "      <td>False</td>\n",
              "    </tr>\n",
              "    <tr>\n",
              "      <th>558</th>\n",
              "      <td>499</td>\n",
              "      <td>Pignite</td>\n",
              "      <td>Fire</td>\n",
              "      <td>Fighting</td>\n",
              "      <td>90</td>\n",
              "      <td>93</td>\n",
              "      <td>55</td>\n",
              "      <td>70</td>\n",
              "      <td>55</td>\n",
              "      <td>55</td>\n",
              "      <td>5</td>\n",
              "      <td>False</td>\n",
              "    </tr>\n",
              "    <tr>\n",
              "      <th>559</th>\n",
              "      <td>500</td>\n",
              "      <td>Emboar</td>\n",
              "      <td>Fire</td>\n",
              "      <td>Fighting</td>\n",
              "      <td>110</td>\n",
              "      <td>123</td>\n",
              "      <td>65</td>\n",
              "      <td>100</td>\n",
              "      <td>65</td>\n",
              "      <td>65</td>\n",
              "      <td>5</td>\n",
              "      <td>False</td>\n",
              "    </tr>\n",
              "    <tr>\n",
              "      <th>572</th>\n",
              "      <td>513</td>\n",
              "      <td>Pansear</td>\n",
              "      <td>Fire</td>\n",
              "      <td>NaN</td>\n",
              "      <td>50</td>\n",
              "      <td>53</td>\n",
              "      <td>48</td>\n",
              "      <td>53</td>\n",
              "      <td>48</td>\n",
              "      <td>64</td>\n",
              "      <td>5</td>\n",
              "      <td>False</td>\n",
              "    </tr>\n",
              "    <tr>\n",
              "      <th>573</th>\n",
              "      <td>514</td>\n",
              "      <td>Simisear</td>\n",
              "      <td>Fire</td>\n",
              "      <td>NaN</td>\n",
              "      <td>75</td>\n",
              "      <td>98</td>\n",
              "      <td>63</td>\n",
              "      <td>98</td>\n",
              "      <td>63</td>\n",
              "      <td>101</td>\n",
              "      <td>5</td>\n",
              "      <td>False</td>\n",
              "    </tr>\n",
              "    <tr>\n",
              "      <th>614</th>\n",
              "      <td>554</td>\n",
              "      <td>Darumaka</td>\n",
              "      <td>Fire</td>\n",
              "      <td>NaN</td>\n",
              "      <td>70</td>\n",
              "      <td>90</td>\n",
              "      <td>45</td>\n",
              "      <td>15</td>\n",
              "      <td>45</td>\n",
              "      <td>50</td>\n",
              "      <td>5</td>\n",
              "      <td>False</td>\n",
              "    </tr>\n",
              "    <tr>\n",
              "      <th>615</th>\n",
              "      <td>555</td>\n",
              "      <td>DarmanitanStandard Mode</td>\n",
              "      <td>Fire</td>\n",
              "      <td>NaN</td>\n",
              "      <td>105</td>\n",
              "      <td>140</td>\n",
              "      <td>55</td>\n",
              "      <td>30</td>\n",
              "      <td>55</td>\n",
              "      <td>95</td>\n",
              "      <td>5</td>\n",
              "      <td>False</td>\n",
              "    </tr>\n",
              "    <tr>\n",
              "      <th>616</th>\n",
              "      <td>555</td>\n",
              "      <td>DarmanitanZen Mode</td>\n",
              "      <td>Fire</td>\n",
              "      <td>Psychic</td>\n",
              "      <td>105</td>\n",
              "      <td>30</td>\n",
              "      <td>105</td>\n",
              "      <td>140</td>\n",
              "      <td>105</td>\n",
              "      <td>55</td>\n",
              "      <td>5</td>\n",
              "      <td>False</td>\n",
              "    </tr>\n",
              "    <tr>\n",
              "      <th>692</th>\n",
              "      <td>631</td>\n",
              "      <td>Heatmor</td>\n",
              "      <td>Fire</td>\n",
              "      <td>NaN</td>\n",
              "      <td>85</td>\n",
              "      <td>97</td>\n",
              "      <td>66</td>\n",
              "      <td>105</td>\n",
              "      <td>66</td>\n",
              "      <td>65</td>\n",
              "      <td>5</td>\n",
              "      <td>False</td>\n",
              "    </tr>\n",
              "    <tr>\n",
              "      <th>721</th>\n",
              "      <td>653</td>\n",
              "      <td>Fennekin</td>\n",
              "      <td>Fire</td>\n",
              "      <td>NaN</td>\n",
              "      <td>40</td>\n",
              "      <td>45</td>\n",
              "      <td>40</td>\n",
              "      <td>62</td>\n",
              "      <td>60</td>\n",
              "      <td>60</td>\n",
              "      <td>6</td>\n",
              "      <td>False</td>\n",
              "    </tr>\n",
              "    <tr>\n",
              "      <th>722</th>\n",
              "      <td>654</td>\n",
              "      <td>Braixen</td>\n",
              "      <td>Fire</td>\n",
              "      <td>NaN</td>\n",
              "      <td>59</td>\n",
              "      <td>59</td>\n",
              "      <td>58</td>\n",
              "      <td>90</td>\n",
              "      <td>70</td>\n",
              "      <td>73</td>\n",
              "      <td>6</td>\n",
              "      <td>False</td>\n",
              "    </tr>\n",
              "    <tr>\n",
              "      <th>723</th>\n",
              "      <td>655</td>\n",
              "      <td>Delphox</td>\n",
              "      <td>Fire</td>\n",
              "      <td>Psychic</td>\n",
              "      <td>75</td>\n",
              "      <td>69</td>\n",
              "      <td>72</td>\n",
              "      <td>114</td>\n",
              "      <td>100</td>\n",
              "      <td>104</td>\n",
              "      <td>6</td>\n",
              "      <td>False</td>\n",
              "    </tr>\n",
              "    <tr>\n",
              "      <th>730</th>\n",
              "      <td>662</td>\n",
              "      <td>Fletchinder</td>\n",
              "      <td>Fire</td>\n",
              "      <td>Flying</td>\n",
              "      <td>62</td>\n",
              "      <td>73</td>\n",
              "      <td>55</td>\n",
              "      <td>56</td>\n",
              "      <td>52</td>\n",
              "      <td>84</td>\n",
              "      <td>6</td>\n",
              "      <td>False</td>\n",
              "    </tr>\n",
              "    <tr>\n",
              "      <th>731</th>\n",
              "      <td>663</td>\n",
              "      <td>Talonflame</td>\n",
              "      <td>Fire</td>\n",
              "      <td>Flying</td>\n",
              "      <td>78</td>\n",
              "      <td>81</td>\n",
              "      <td>71</td>\n",
              "      <td>74</td>\n",
              "      <td>69</td>\n",
              "      <td>126</td>\n",
              "      <td>6</td>\n",
              "      <td>False</td>\n",
              "    </tr>\n",
              "    <tr>\n",
              "      <th>735</th>\n",
              "      <td>667</td>\n",
              "      <td>Litleo</td>\n",
              "      <td>Fire</td>\n",
              "      <td>Normal</td>\n",
              "      <td>62</td>\n",
              "      <td>50</td>\n",
              "      <td>58</td>\n",
              "      <td>73</td>\n",
              "      <td>54</td>\n",
              "      <td>72</td>\n",
              "      <td>6</td>\n",
              "      <td>False</td>\n",
              "    </tr>\n",
              "    <tr>\n",
              "      <th>736</th>\n",
              "      <td>668</td>\n",
              "      <td>Pyroar</td>\n",
              "      <td>Fire</td>\n",
              "      <td>Normal</td>\n",
              "      <td>86</td>\n",
              "      <td>68</td>\n",
              "      <td>72</td>\n",
              "      <td>109</td>\n",
              "      <td>66</td>\n",
              "      <td>106</td>\n",
              "      <td>6</td>\n",
              "      <td>False</td>\n",
              "    </tr>\n",
              "    <tr>\n",
              "      <th>799</th>\n",
              "      <td>721</td>\n",
              "      <td>Volcanion</td>\n",
              "      <td>Fire</td>\n",
              "      <td>Water</td>\n",
              "      <td>80</td>\n",
              "      <td>110</td>\n",
              "      <td>120</td>\n",
              "      <td>130</td>\n",
              "      <td>90</td>\n",
              "      <td>70</td>\n",
              "      <td>6</td>\n",
              "      <td>True</td>\n",
              "    </tr>\n",
              "  </tbody>\n",
              "</table>\n",
              "</div>"
            ],
            "text/plain": [
              "       #                       Name Type 1  ... Speed  Generation  Legendary\n",
              "4      4                 Charmander   Fire  ...    65           1      False\n",
              "5      5                 Charmeleon   Fire  ...    80           1      False\n",
              "6      6                  Charizard   Fire  ...   100           1      False\n",
              "7      6  CharizardMega Charizard X   Fire  ...   100           1      False\n",
              "8      6  CharizardMega Charizard Y   Fire  ...   100           1      False\n",
              "42    37                     Vulpix   Fire  ...    65           1      False\n",
              "43    38                  Ninetales   Fire  ...   100           1      False\n",
              "63    58                  Growlithe   Fire  ...    60           1      False\n",
              "64    59                   Arcanine   Fire  ...    95           1      False\n",
              "83    77                     Ponyta   Fire  ...    90           1      False\n",
              "84    78                   Rapidash   Fire  ...   105           1      False\n",
              "135  126                     Magmar   Fire  ...    93           1      False\n",
              "147  136                    Flareon   Fire  ...    65           1      False\n",
              "158  146                    Moltres   Fire  ...    90           1       True\n",
              "169  155                  Cyndaquil   Fire  ...    65           2      False\n",
              "170  156                    Quilava   Fire  ...    80           2      False\n",
              "171  157                 Typhlosion   Fire  ...   100           2      False\n",
              "236  218                     Slugma   Fire  ...    20           2      False\n",
              "237  219                   Magcargo   Fire  ...    30           2      False\n",
              "259  240                      Magby   Fire  ...    83           2      False\n",
              "263  244                      Entei   Fire  ...   100           2       True\n",
              "270  250                      Ho-oh   Fire  ...    90           2       True\n",
              "276  255                    Torchic   Fire  ...    45           3      False\n",
              "277  256                  Combusken   Fire  ...    55           3      False\n",
              "278  257                   Blaziken   Fire  ...    80           3      False\n",
              "279  257      BlazikenMega Blaziken   Fire  ...   100           3      False\n",
              "352  322                      Numel   Fire  ...    35           3      False\n",
              "353  323                   Camerupt   Fire  ...    40           3      False\n",
              "354  323      CameruptMega Camerupt   Fire  ...    20           3      False\n",
              "355  324                    Torkoal   Fire  ...    20           3      False\n",
              "435  390                   Chimchar   Fire  ...    61           4      False\n",
              "436  391                   Monferno   Fire  ...    81           4      False\n",
              "437  392                  Infernape   Fire  ...   108           4      False\n",
              "518  467                  Magmortar   Fire  ...    83           4      False\n",
              "542  485                    Heatran   Fire  ...    77           4       True\n",
              "557  498                      Tepig   Fire  ...    45           5      False\n",
              "558  499                    Pignite   Fire  ...    55           5      False\n",
              "559  500                     Emboar   Fire  ...    65           5      False\n",
              "572  513                    Pansear   Fire  ...    64           5      False\n",
              "573  514                   Simisear   Fire  ...   101           5      False\n",
              "614  554                   Darumaka   Fire  ...    50           5      False\n",
              "615  555    DarmanitanStandard Mode   Fire  ...    95           5      False\n",
              "616  555         DarmanitanZen Mode   Fire  ...    55           5      False\n",
              "692  631                    Heatmor   Fire  ...    65           5      False\n",
              "721  653                   Fennekin   Fire  ...    60           6      False\n",
              "722  654                    Braixen   Fire  ...    73           6      False\n",
              "723  655                    Delphox   Fire  ...   104           6      False\n",
              "730  662                Fletchinder   Fire  ...    84           6      False\n",
              "731  663                 Talonflame   Fire  ...   126           6      False\n",
              "735  667                     Litleo   Fire  ...    72           6      False\n",
              "736  668                     Pyroar   Fire  ...   106           6      False\n",
              "799  721                  Volcanion   Fire  ...    70           6       True\n",
              "\n",
              "[52 rows x 12 columns]"
            ]
          },
          "metadata": {
            "tags": []
          },
          "execution_count": 158
        }
      ]
    },
    {
      "cell_type": "code",
      "metadata": {
        "id": "y1xd_XRiwxyB",
        "colab_type": "code",
        "outputId": "dc3c1350-53cb-408e-e748-27ad8ececb31",
        "colab": {
          "base_uri": "https://localhost:8080/",
          "height": 522
        }
      },
      "source": [
        "df.loc[df['Legendary'] == True]"
      ],
      "execution_count": 0,
      "outputs": [
        {
          "output_type": "execute_result",
          "data": {
            "text/html": [
              "<div>\n",
              "<style scoped>\n",
              "    .dataframe tbody tr th:only-of-type {\n",
              "        vertical-align: middle;\n",
              "    }\n",
              "\n",
              "    .dataframe tbody tr th {\n",
              "        vertical-align: top;\n",
              "    }\n",
              "\n",
              "    .dataframe thead th {\n",
              "        text-align: right;\n",
              "    }\n",
              "</style>\n",
              "<table border=\"1\" class=\"dataframe\">\n",
              "  <thead>\n",
              "    <tr style=\"text-align: right;\">\n",
              "      <th></th>\n",
              "      <th>#</th>\n",
              "      <th>Name</th>\n",
              "      <th>Type 1</th>\n",
              "      <th>Type 2</th>\n",
              "      <th>HP</th>\n",
              "      <th>Attack</th>\n",
              "      <th>Defense</th>\n",
              "      <th>Sp. Atk</th>\n",
              "      <th>Sp. Def</th>\n",
              "      <th>Speed</th>\n",
              "      <th>Generation</th>\n",
              "      <th>Legendary</th>\n",
              "    </tr>\n",
              "  </thead>\n",
              "  <tbody>\n",
              "    <tr>\n",
              "      <th>156</th>\n",
              "      <td>144</td>\n",
              "      <td>Articuno</td>\n",
              "      <td>Ice</td>\n",
              "      <td>Flying</td>\n",
              "      <td>90</td>\n",
              "      <td>85</td>\n",
              "      <td>100</td>\n",
              "      <td>95</td>\n",
              "      <td>125</td>\n",
              "      <td>85</td>\n",
              "      <td>1</td>\n",
              "      <td>True</td>\n",
              "    </tr>\n",
              "    <tr>\n",
              "      <th>157</th>\n",
              "      <td>145</td>\n",
              "      <td>Zapdos</td>\n",
              "      <td>Electric</td>\n",
              "      <td>Flying</td>\n",
              "      <td>90</td>\n",
              "      <td>90</td>\n",
              "      <td>85</td>\n",
              "      <td>125</td>\n",
              "      <td>90</td>\n",
              "      <td>100</td>\n",
              "      <td>1</td>\n",
              "      <td>True</td>\n",
              "    </tr>\n",
              "    <tr>\n",
              "      <th>158</th>\n",
              "      <td>146</td>\n",
              "      <td>Moltres</td>\n",
              "      <td>Fire</td>\n",
              "      <td>Flying</td>\n",
              "      <td>90</td>\n",
              "      <td>100</td>\n",
              "      <td>90</td>\n",
              "      <td>125</td>\n",
              "      <td>85</td>\n",
              "      <td>90</td>\n",
              "      <td>1</td>\n",
              "      <td>True</td>\n",
              "    </tr>\n",
              "    <tr>\n",
              "      <th>162</th>\n",
              "      <td>150</td>\n",
              "      <td>Mewtwo</td>\n",
              "      <td>Psychic</td>\n",
              "      <td>NaN</td>\n",
              "      <td>106</td>\n",
              "      <td>110</td>\n",
              "      <td>90</td>\n",
              "      <td>154</td>\n",
              "      <td>90</td>\n",
              "      <td>130</td>\n",
              "      <td>1</td>\n",
              "      <td>True</td>\n",
              "    </tr>\n",
              "    <tr>\n",
              "      <th>163</th>\n",
              "      <td>150</td>\n",
              "      <td>MewtwoMega Mewtwo X</td>\n",
              "      <td>Psychic</td>\n",
              "      <td>Fighting</td>\n",
              "      <td>106</td>\n",
              "      <td>190</td>\n",
              "      <td>100</td>\n",
              "      <td>154</td>\n",
              "      <td>100</td>\n",
              "      <td>130</td>\n",
              "      <td>1</td>\n",
              "      <td>True</td>\n",
              "    </tr>\n",
              "    <tr>\n",
              "      <th>...</th>\n",
              "      <td>...</td>\n",
              "      <td>...</td>\n",
              "      <td>...</td>\n",
              "      <td>...</td>\n",
              "      <td>...</td>\n",
              "      <td>...</td>\n",
              "      <td>...</td>\n",
              "      <td>...</td>\n",
              "      <td>...</td>\n",
              "      <td>...</td>\n",
              "      <td>...</td>\n",
              "      <td>...</td>\n",
              "    </tr>\n",
              "    <tr>\n",
              "      <th>795</th>\n",
              "      <td>719</td>\n",
              "      <td>Diancie</td>\n",
              "      <td>Rock</td>\n",
              "      <td>Fairy</td>\n",
              "      <td>50</td>\n",
              "      <td>100</td>\n",
              "      <td>150</td>\n",
              "      <td>100</td>\n",
              "      <td>150</td>\n",
              "      <td>50</td>\n",
              "      <td>6</td>\n",
              "      <td>True</td>\n",
              "    </tr>\n",
              "    <tr>\n",
              "      <th>796</th>\n",
              "      <td>719</td>\n",
              "      <td>DiancieMega Diancie</td>\n",
              "      <td>Rock</td>\n",
              "      <td>Fairy</td>\n",
              "      <td>50</td>\n",
              "      <td>160</td>\n",
              "      <td>110</td>\n",
              "      <td>160</td>\n",
              "      <td>110</td>\n",
              "      <td>110</td>\n",
              "      <td>6</td>\n",
              "      <td>True</td>\n",
              "    </tr>\n",
              "    <tr>\n",
              "      <th>797</th>\n",
              "      <td>720</td>\n",
              "      <td>HoopaHoopa Confined</td>\n",
              "      <td>Psychic</td>\n",
              "      <td>Ghost</td>\n",
              "      <td>80</td>\n",
              "      <td>110</td>\n",
              "      <td>60</td>\n",
              "      <td>150</td>\n",
              "      <td>130</td>\n",
              "      <td>70</td>\n",
              "      <td>6</td>\n",
              "      <td>True</td>\n",
              "    </tr>\n",
              "    <tr>\n",
              "      <th>798</th>\n",
              "      <td>720</td>\n",
              "      <td>HoopaHoopa Unbound</td>\n",
              "      <td>Psychic</td>\n",
              "      <td>Dark</td>\n",
              "      <td>80</td>\n",
              "      <td>160</td>\n",
              "      <td>60</td>\n",
              "      <td>170</td>\n",
              "      <td>130</td>\n",
              "      <td>80</td>\n",
              "      <td>6</td>\n",
              "      <td>True</td>\n",
              "    </tr>\n",
              "    <tr>\n",
              "      <th>799</th>\n",
              "      <td>721</td>\n",
              "      <td>Volcanion</td>\n",
              "      <td>Fire</td>\n",
              "      <td>Water</td>\n",
              "      <td>80</td>\n",
              "      <td>110</td>\n",
              "      <td>120</td>\n",
              "      <td>130</td>\n",
              "      <td>90</td>\n",
              "      <td>70</td>\n",
              "      <td>6</td>\n",
              "      <td>True</td>\n",
              "    </tr>\n",
              "  </tbody>\n",
              "</table>\n",
              "<p>65 rows × 12 columns</p>\n",
              "</div>"
            ],
            "text/plain": [
              "       #                 Name    Type 1  ... Speed  Generation  Legendary\n",
              "156  144             Articuno       Ice  ...    85           1       True\n",
              "157  145               Zapdos  Electric  ...   100           1       True\n",
              "158  146              Moltres      Fire  ...    90           1       True\n",
              "162  150               Mewtwo   Psychic  ...   130           1       True\n",
              "163  150  MewtwoMega Mewtwo X   Psychic  ...   130           1       True\n",
              "..   ...                  ...       ...  ...   ...         ...        ...\n",
              "795  719              Diancie      Rock  ...    50           6       True\n",
              "796  719  DiancieMega Diancie      Rock  ...   110           6       True\n",
              "797  720  HoopaHoopa Confined   Psychic  ...    70           6       True\n",
              "798  720   HoopaHoopa Unbound   Psychic  ...    80           6       True\n",
              "799  721            Volcanion      Fire  ...    70           6       True\n",
              "\n",
              "[65 rows x 12 columns]"
            ]
          },
          "metadata": {
            "tags": []
          },
          "execution_count": 160
        }
      ]
    },
    {
      "cell_type": "code",
      "metadata": {
        "id": "JhEjZpvfw_zT",
        "colab_type": "code",
        "outputId": "8fdb4893-fed3-46dd-ed9a-df3e29c1777e",
        "colab": {
          "base_uri": "https://localhost:8080/",
          "height": 314
        }
      },
      "source": [
        "df.describe()"
      ],
      "execution_count": 0,
      "outputs": [
        {
          "output_type": "execute_result",
          "data": {
            "text/html": [
              "<div>\n",
              "<style scoped>\n",
              "    .dataframe tbody tr th:only-of-type {\n",
              "        vertical-align: middle;\n",
              "    }\n",
              "\n",
              "    .dataframe tbody tr th {\n",
              "        vertical-align: top;\n",
              "    }\n",
              "\n",
              "    .dataframe thead th {\n",
              "        text-align: right;\n",
              "    }\n",
              "</style>\n",
              "<table border=\"1\" class=\"dataframe\">\n",
              "  <thead>\n",
              "    <tr style=\"text-align: right;\">\n",
              "      <th></th>\n",
              "      <th>#</th>\n",
              "      <th>HP</th>\n",
              "      <th>Attack</th>\n",
              "      <th>Defense</th>\n",
              "      <th>Sp. Atk</th>\n",
              "      <th>Sp. Def</th>\n",
              "      <th>Speed</th>\n",
              "      <th>Generation</th>\n",
              "    </tr>\n",
              "  </thead>\n",
              "  <tbody>\n",
              "    <tr>\n",
              "      <th>count</th>\n",
              "      <td>800.000000</td>\n",
              "      <td>800.000000</td>\n",
              "      <td>800.000000</td>\n",
              "      <td>800.000000</td>\n",
              "      <td>800.000000</td>\n",
              "      <td>800.000000</td>\n",
              "      <td>800.000000</td>\n",
              "      <td>800.00000</td>\n",
              "    </tr>\n",
              "    <tr>\n",
              "      <th>mean</th>\n",
              "      <td>362.813750</td>\n",
              "      <td>69.258750</td>\n",
              "      <td>79.001250</td>\n",
              "      <td>73.842500</td>\n",
              "      <td>72.820000</td>\n",
              "      <td>71.902500</td>\n",
              "      <td>68.277500</td>\n",
              "      <td>3.32375</td>\n",
              "    </tr>\n",
              "    <tr>\n",
              "      <th>std</th>\n",
              "      <td>208.343798</td>\n",
              "      <td>25.534669</td>\n",
              "      <td>32.457366</td>\n",
              "      <td>31.183501</td>\n",
              "      <td>32.722294</td>\n",
              "      <td>27.828916</td>\n",
              "      <td>29.060474</td>\n",
              "      <td>1.66129</td>\n",
              "    </tr>\n",
              "    <tr>\n",
              "      <th>min</th>\n",
              "      <td>1.000000</td>\n",
              "      <td>1.000000</td>\n",
              "      <td>5.000000</td>\n",
              "      <td>5.000000</td>\n",
              "      <td>10.000000</td>\n",
              "      <td>20.000000</td>\n",
              "      <td>5.000000</td>\n",
              "      <td>1.00000</td>\n",
              "    </tr>\n",
              "    <tr>\n",
              "      <th>25%</th>\n",
              "      <td>184.750000</td>\n",
              "      <td>50.000000</td>\n",
              "      <td>55.000000</td>\n",
              "      <td>50.000000</td>\n",
              "      <td>49.750000</td>\n",
              "      <td>50.000000</td>\n",
              "      <td>45.000000</td>\n",
              "      <td>2.00000</td>\n",
              "    </tr>\n",
              "    <tr>\n",
              "      <th>50%</th>\n",
              "      <td>364.500000</td>\n",
              "      <td>65.000000</td>\n",
              "      <td>75.000000</td>\n",
              "      <td>70.000000</td>\n",
              "      <td>65.000000</td>\n",
              "      <td>70.000000</td>\n",
              "      <td>65.000000</td>\n",
              "      <td>3.00000</td>\n",
              "    </tr>\n",
              "    <tr>\n",
              "      <th>75%</th>\n",
              "      <td>539.250000</td>\n",
              "      <td>80.000000</td>\n",
              "      <td>100.000000</td>\n",
              "      <td>90.000000</td>\n",
              "      <td>95.000000</td>\n",
              "      <td>90.000000</td>\n",
              "      <td>90.000000</td>\n",
              "      <td>5.00000</td>\n",
              "    </tr>\n",
              "    <tr>\n",
              "      <th>max</th>\n",
              "      <td>721.000000</td>\n",
              "      <td>255.000000</td>\n",
              "      <td>190.000000</td>\n",
              "      <td>230.000000</td>\n",
              "      <td>194.000000</td>\n",
              "      <td>230.000000</td>\n",
              "      <td>180.000000</td>\n",
              "      <td>6.00000</td>\n",
              "    </tr>\n",
              "  </tbody>\n",
              "</table>\n",
              "</div>"
            ],
            "text/plain": [
              "                #          HP      Attack  ...     Sp. Def       Speed  Generation\n",
              "count  800.000000  800.000000  800.000000  ...  800.000000  800.000000   800.00000\n",
              "mean   362.813750   69.258750   79.001250  ...   71.902500   68.277500     3.32375\n",
              "std    208.343798   25.534669   32.457366  ...   27.828916   29.060474     1.66129\n",
              "min      1.000000    1.000000    5.000000  ...   20.000000    5.000000     1.00000\n",
              "25%    184.750000   50.000000   55.000000  ...   50.000000   45.000000     2.00000\n",
              "50%    364.500000   65.000000   75.000000  ...   70.000000   65.000000     3.00000\n",
              "75%    539.250000   80.000000  100.000000  ...   90.000000   90.000000     5.00000\n",
              "max    721.000000  255.000000  190.000000  ...  230.000000  180.000000     6.00000\n",
              "\n",
              "[8 rows x 8 columns]"
            ]
          },
          "metadata": {
            "tags": []
          },
          "execution_count": 162
        }
      ]
    },
    {
      "cell_type": "code",
      "metadata": {
        "id": "vQbdRGe8xjjB",
        "colab_type": "code",
        "outputId": "44732479-b322-4d55-d255-b90b9fe04a9b",
        "colab": {
          "base_uri": "https://localhost:8080/",
          "height": 453
        }
      },
      "source": [
        "df.sort_values(['Type 1'], ascending = True)"
      ],
      "execution_count": 0,
      "outputs": [
        {
          "output_type": "execute_result",
          "data": {
            "text/html": [
              "<div>\n",
              "<style scoped>\n",
              "    .dataframe tbody tr th:only-of-type {\n",
              "        vertical-align: middle;\n",
              "    }\n",
              "\n",
              "    .dataframe tbody tr th {\n",
              "        vertical-align: top;\n",
              "    }\n",
              "\n",
              "    .dataframe thead th {\n",
              "        text-align: right;\n",
              "    }\n",
              "</style>\n",
              "<table border=\"1\" class=\"dataframe\">\n",
              "  <thead>\n",
              "    <tr style=\"text-align: right;\">\n",
              "      <th></th>\n",
              "      <th>#</th>\n",
              "      <th>Name</th>\n",
              "      <th>Type 1</th>\n",
              "      <th>Type 2</th>\n",
              "      <th>HP</th>\n",
              "      <th>Attack</th>\n",
              "      <th>Defense</th>\n",
              "      <th>Sp. Atk</th>\n",
              "      <th>Sp. Def</th>\n",
              "      <th>Speed</th>\n",
              "      <th>Generation</th>\n",
              "      <th>Legendary</th>\n",
              "    </tr>\n",
              "  </thead>\n",
              "  <tbody>\n",
              "    <tr>\n",
              "      <th>600</th>\n",
              "      <td>540</td>\n",
              "      <td>Sewaddle</td>\n",
              "      <td>Bug</td>\n",
              "      <td>Grass</td>\n",
              "      <td>45</td>\n",
              "      <td>53</td>\n",
              "      <td>70</td>\n",
              "      <td>40</td>\n",
              "      <td>60</td>\n",
              "      <td>42</td>\n",
              "      <td>5</td>\n",
              "      <td>False</td>\n",
              "    </tr>\n",
              "    <tr>\n",
              "      <th>136</th>\n",
              "      <td>127</td>\n",
              "      <td>Pinsir</td>\n",
              "      <td>Bug</td>\n",
              "      <td>NaN</td>\n",
              "      <td>65</td>\n",
              "      <td>125</td>\n",
              "      <td>100</td>\n",
              "      <td>55</td>\n",
              "      <td>70</td>\n",
              "      <td>85</td>\n",
              "      <td>1</td>\n",
              "      <td>False</td>\n",
              "    </tr>\n",
              "    <tr>\n",
              "      <th>457</th>\n",
              "      <td>412</td>\n",
              "      <td>Burmy</td>\n",
              "      <td>Bug</td>\n",
              "      <td>NaN</td>\n",
              "      <td>40</td>\n",
              "      <td>29</td>\n",
              "      <td>45</td>\n",
              "      <td>29</td>\n",
              "      <td>45</td>\n",
              "      <td>36</td>\n",
              "      <td>4</td>\n",
              "      <td>False</td>\n",
              "    </tr>\n",
              "    <tr>\n",
              "      <th>132</th>\n",
              "      <td>123</td>\n",
              "      <td>Scyther</td>\n",
              "      <td>Bug</td>\n",
              "      <td>Flying</td>\n",
              "      <td>70</td>\n",
              "      <td>110</td>\n",
              "      <td>80</td>\n",
              "      <td>55</td>\n",
              "      <td>80</td>\n",
              "      <td>105</td>\n",
              "      <td>1</td>\n",
              "      <td>False</td>\n",
              "    </tr>\n",
              "    <tr>\n",
              "      <th>656</th>\n",
              "      <td>595</td>\n",
              "      <td>Joltik</td>\n",
              "      <td>Bug</td>\n",
              "      <td>Electric</td>\n",
              "      <td>50</td>\n",
              "      <td>47</td>\n",
              "      <td>50</td>\n",
              "      <td>57</td>\n",
              "      <td>50</td>\n",
              "      <td>65</td>\n",
              "      <td>5</td>\n",
              "      <td>False</td>\n",
              "    </tr>\n",
              "    <tr>\n",
              "      <th>...</th>\n",
              "      <td>...</td>\n",
              "      <td>...</td>\n",
              "      <td>...</td>\n",
              "      <td>...</td>\n",
              "      <td>...</td>\n",
              "      <td>...</td>\n",
              "      <td>...</td>\n",
              "      <td>...</td>\n",
              "      <td>...</td>\n",
              "      <td>...</td>\n",
              "      <td>...</td>\n",
              "      <td>...</td>\n",
              "    </tr>\n",
              "    <tr>\n",
              "      <th>172</th>\n",
              "      <td>158</td>\n",
              "      <td>Totodile</td>\n",
              "      <td>Water</td>\n",
              "      <td>NaN</td>\n",
              "      <td>50</td>\n",
              "      <td>65</td>\n",
              "      <td>64</td>\n",
              "      <td>44</td>\n",
              "      <td>48</td>\n",
              "      <td>43</td>\n",
              "      <td>2</td>\n",
              "      <td>False</td>\n",
              "    </tr>\n",
              "    <tr>\n",
              "      <th>610</th>\n",
              "      <td>550</td>\n",
              "      <td>Basculin</td>\n",
              "      <td>Water</td>\n",
              "      <td>NaN</td>\n",
              "      <td>70</td>\n",
              "      <td>92</td>\n",
              "      <td>65</td>\n",
              "      <td>80</td>\n",
              "      <td>55</td>\n",
              "      <td>98</td>\n",
              "      <td>5</td>\n",
              "      <td>False</td>\n",
              "    </tr>\n",
              "    <tr>\n",
              "      <th>145</th>\n",
              "      <td>134</td>\n",
              "      <td>Vaporeon</td>\n",
              "      <td>Water</td>\n",
              "      <td>NaN</td>\n",
              "      <td>130</td>\n",
              "      <td>65</td>\n",
              "      <td>60</td>\n",
              "      <td>110</td>\n",
              "      <td>95</td>\n",
              "      <td>65</td>\n",
              "      <td>1</td>\n",
              "      <td>False</td>\n",
              "    </tr>\n",
              "    <tr>\n",
              "      <th>574</th>\n",
              "      <td>515</td>\n",
              "      <td>Panpour</td>\n",
              "      <td>Water</td>\n",
              "      <td>NaN</td>\n",
              "      <td>50</td>\n",
              "      <td>53</td>\n",
              "      <td>48</td>\n",
              "      <td>53</td>\n",
              "      <td>48</td>\n",
              "      <td>64</td>\n",
              "      <td>5</td>\n",
              "      <td>False</td>\n",
              "    </tr>\n",
              "    <tr>\n",
              "      <th>184</th>\n",
              "      <td>170</td>\n",
              "      <td>Chinchou</td>\n",
              "      <td>Water</td>\n",
              "      <td>Electric</td>\n",
              "      <td>75</td>\n",
              "      <td>38</td>\n",
              "      <td>38</td>\n",
              "      <td>56</td>\n",
              "      <td>56</td>\n",
              "      <td>67</td>\n",
              "      <td>2</td>\n",
              "      <td>False</td>\n",
              "    </tr>\n",
              "  </tbody>\n",
              "</table>\n",
              "<p>800 rows × 12 columns</p>\n",
              "</div>"
            ],
            "text/plain": [
              "       #      Name Type 1    Type 2  ...  Sp. Def  Speed  Generation  Legendary\n",
              "600  540  Sewaddle    Bug     Grass  ...       60     42           5      False\n",
              "136  127    Pinsir    Bug       NaN  ...       70     85           1      False\n",
              "457  412     Burmy    Bug       NaN  ...       45     36           4      False\n",
              "132  123   Scyther    Bug    Flying  ...       80    105           1      False\n",
              "656  595    Joltik    Bug  Electric  ...       50     65           5      False\n",
              "..   ...       ...    ...       ...  ...      ...    ...         ...        ...\n",
              "172  158  Totodile  Water       NaN  ...       48     43           2      False\n",
              "610  550  Basculin  Water       NaN  ...       55     98           5      False\n",
              "145  134  Vaporeon  Water       NaN  ...       95     65           1      False\n",
              "574  515   Panpour  Water       NaN  ...       48     64           5      False\n",
              "184  170  Chinchou  Water  Electric  ...       56     67           2      False\n",
              "\n",
              "[800 rows x 12 columns]"
            ]
          },
          "metadata": {
            "tags": []
          },
          "execution_count": 165
        }
      ]
    },
    {
      "cell_type": "code",
      "metadata": {
        "id": "QWc9B7e-x0aE",
        "colab_type": "code",
        "outputId": "aa1d92e5-185a-4991-8fab-c1660583c13f",
        "colab": {
          "base_uri": "https://localhost:8080/",
          "height": 470
        }
      },
      "source": [
        "df.sort_values(['Type 1', 'HP'], ascending = [0,1])"
      ],
      "execution_count": 0,
      "outputs": [
        {
          "output_type": "execute_result",
          "data": {
            "text/html": [
              "<div>\n",
              "<style scoped>\n",
              "    .dataframe tbody tr th:only-of-type {\n",
              "        vertical-align: middle;\n",
              "    }\n",
              "\n",
              "    .dataframe tbody tr th {\n",
              "        vertical-align: top;\n",
              "    }\n",
              "\n",
              "    .dataframe thead th {\n",
              "        text-align: right;\n",
              "    }\n",
              "</style>\n",
              "<table border=\"1\" class=\"dataframe\">\n",
              "  <thead>\n",
              "    <tr style=\"text-align: right;\">\n",
              "      <th></th>\n",
              "      <th>#</th>\n",
              "      <th>Name</th>\n",
              "      <th>Type 1</th>\n",
              "      <th>Type 2</th>\n",
              "      <th>HP</th>\n",
              "      <th>Attack</th>\n",
              "      <th>Defense</th>\n",
              "      <th>Sp. Atk</th>\n",
              "      <th>Sp. Def</th>\n",
              "      <th>Speed</th>\n",
              "      <th>Generation</th>\n",
              "      <th>Legendary</th>\n",
              "    </tr>\n",
              "  </thead>\n",
              "  <tbody>\n",
              "    <tr>\n",
              "      <th>139</th>\n",
              "      <td>129</td>\n",
              "      <td>Magikarp</td>\n",
              "      <td>Water</td>\n",
              "      <td>NaN</td>\n",
              "      <td>20</td>\n",
              "      <td>10</td>\n",
              "      <td>55</td>\n",
              "      <td>15</td>\n",
              "      <td>20</td>\n",
              "      <td>80</td>\n",
              "      <td>1</td>\n",
              "      <td>False</td>\n",
              "    </tr>\n",
              "    <tr>\n",
              "      <th>381</th>\n",
              "      <td>349</td>\n",
              "      <td>Feebas</td>\n",
              "      <td>Water</td>\n",
              "      <td>NaN</td>\n",
              "      <td>20</td>\n",
              "      <td>15</td>\n",
              "      <td>20</td>\n",
              "      <td>10</td>\n",
              "      <td>55</td>\n",
              "      <td>80</td>\n",
              "      <td>3</td>\n",
              "      <td>False</td>\n",
              "    </tr>\n",
              "    <tr>\n",
              "      <th>97</th>\n",
              "      <td>90</td>\n",
              "      <td>Shellder</td>\n",
              "      <td>Water</td>\n",
              "      <td>NaN</td>\n",
              "      <td>30</td>\n",
              "      <td>65</td>\n",
              "      <td>100</td>\n",
              "      <td>45</td>\n",
              "      <td>25</td>\n",
              "      <td>40</td>\n",
              "      <td>1</td>\n",
              "      <td>False</td>\n",
              "    </tr>\n",
              "    <tr>\n",
              "      <th>106</th>\n",
              "      <td>98</td>\n",
              "      <td>Krabby</td>\n",
              "      <td>Water</td>\n",
              "      <td>NaN</td>\n",
              "      <td>30</td>\n",
              "      <td>105</td>\n",
              "      <td>90</td>\n",
              "      <td>25</td>\n",
              "      <td>25</td>\n",
              "      <td>50</td>\n",
              "      <td>1</td>\n",
              "      <td>False</td>\n",
              "    </tr>\n",
              "    <tr>\n",
              "      <th>125</th>\n",
              "      <td>116</td>\n",
              "      <td>Horsea</td>\n",
              "      <td>Water</td>\n",
              "      <td>NaN</td>\n",
              "      <td>30</td>\n",
              "      <td>40</td>\n",
              "      <td>70</td>\n",
              "      <td>70</td>\n",
              "      <td>25</td>\n",
              "      <td>60</td>\n",
              "      <td>1</td>\n",
              "      <td>False</td>\n",
              "    </tr>\n",
              "    <tr>\n",
              "      <th>...</th>\n",
              "      <td>...</td>\n",
              "      <td>...</td>\n",
              "      <td>...</td>\n",
              "      <td>...</td>\n",
              "      <td>...</td>\n",
              "      <td>...</td>\n",
              "      <td>...</td>\n",
              "      <td>...</td>\n",
              "      <td>...</td>\n",
              "      <td>...</td>\n",
              "      <td>...</td>\n",
              "      <td>...</td>\n",
              "    </tr>\n",
              "    <tr>\n",
              "      <th>232</th>\n",
              "      <td>214</td>\n",
              "      <td>HeracrossMega Heracross</td>\n",
              "      <td>Bug</td>\n",
              "      <td>Fighting</td>\n",
              "      <td>80</td>\n",
              "      <td>185</td>\n",
              "      <td>115</td>\n",
              "      <td>40</td>\n",
              "      <td>105</td>\n",
              "      <td>75</td>\n",
              "      <td>2</td>\n",
              "      <td>False</td>\n",
              "    </tr>\n",
              "    <tr>\n",
              "      <th>678</th>\n",
              "      <td>617</td>\n",
              "      <td>Accelgor</td>\n",
              "      <td>Bug</td>\n",
              "      <td>NaN</td>\n",
              "      <td>80</td>\n",
              "      <td>70</td>\n",
              "      <td>40</td>\n",
              "      <td>100</td>\n",
              "      <td>60</td>\n",
              "      <td>145</td>\n",
              "      <td>5</td>\n",
              "      <td>False</td>\n",
              "    </tr>\n",
              "    <tr>\n",
              "      <th>734</th>\n",
              "      <td>666</td>\n",
              "      <td>Vivillon</td>\n",
              "      <td>Bug</td>\n",
              "      <td>Flying</td>\n",
              "      <td>80</td>\n",
              "      <td>52</td>\n",
              "      <td>50</td>\n",
              "      <td>90</td>\n",
              "      <td>50</td>\n",
              "      <td>89</td>\n",
              "      <td>6</td>\n",
              "      <td>False</td>\n",
              "    </tr>\n",
              "    <tr>\n",
              "      <th>698</th>\n",
              "      <td>637</td>\n",
              "      <td>Volcarona</td>\n",
              "      <td>Bug</td>\n",
              "      <td>Fire</td>\n",
              "      <td>85</td>\n",
              "      <td>60</td>\n",
              "      <td>65</td>\n",
              "      <td>135</td>\n",
              "      <td>105</td>\n",
              "      <td>100</td>\n",
              "      <td>5</td>\n",
              "      <td>False</td>\n",
              "    </tr>\n",
              "    <tr>\n",
              "      <th>520</th>\n",
              "      <td>469</td>\n",
              "      <td>Yanmega</td>\n",
              "      <td>Bug</td>\n",
              "      <td>Flying</td>\n",
              "      <td>86</td>\n",
              "      <td>76</td>\n",
              "      <td>86</td>\n",
              "      <td>116</td>\n",
              "      <td>56</td>\n",
              "      <td>95</td>\n",
              "      <td>4</td>\n",
              "      <td>False</td>\n",
              "    </tr>\n",
              "  </tbody>\n",
              "</table>\n",
              "<p>800 rows × 12 columns</p>\n",
              "</div>"
            ],
            "text/plain": [
              "       #                     Name Type 1  ... Speed  Generation  Legendary\n",
              "139  129                 Magikarp  Water  ...    80           1      False\n",
              "381  349                   Feebas  Water  ...    80           3      False\n",
              "97    90                 Shellder  Water  ...    40           1      False\n",
              "106   98                   Krabby  Water  ...    50           1      False\n",
              "125  116                   Horsea  Water  ...    60           1      False\n",
              "..   ...                      ...    ...  ...   ...         ...        ...\n",
              "232  214  HeracrossMega Heracross    Bug  ...    75           2      False\n",
              "678  617                 Accelgor    Bug  ...   145           5      False\n",
              "734  666                 Vivillon    Bug  ...    89           6      False\n",
              "698  637                Volcarona    Bug  ...   100           5      False\n",
              "520  469                  Yanmega    Bug  ...    95           4      False\n",
              "\n",
              "[800 rows x 12 columns]"
            ]
          },
          "metadata": {
            "tags": []
          },
          "execution_count": 168
        }
      ]
    },
    {
      "cell_type": "code",
      "metadata": {
        "id": "DG7QGzuZyQ3O",
        "colab_type": "code",
        "colab": {}
      },
      "source": [
        "df['Total'] = df['Attack'] + df['HP']"
      ],
      "execution_count": 0,
      "outputs": []
    },
    {
      "cell_type": "code",
      "metadata": {
        "id": "ryKRXeQQynvB",
        "colab_type": "code",
        "outputId": "d0387ad9-4922-4aff-8e93-150afad9244d",
        "colab": {
          "base_uri": "https://localhost:8080/",
          "height": 522
        }
      },
      "source": [
        "df"
      ],
      "execution_count": 0,
      "outputs": [
        {
          "output_type": "execute_result",
          "data": {
            "text/html": [
              "<div>\n",
              "<style scoped>\n",
              "    .dataframe tbody tr th:only-of-type {\n",
              "        vertical-align: middle;\n",
              "    }\n",
              "\n",
              "    .dataframe tbody tr th {\n",
              "        vertical-align: top;\n",
              "    }\n",
              "\n",
              "    .dataframe thead th {\n",
              "        text-align: right;\n",
              "    }\n",
              "</style>\n",
              "<table border=\"1\" class=\"dataframe\">\n",
              "  <thead>\n",
              "    <tr style=\"text-align: right;\">\n",
              "      <th></th>\n",
              "      <th>#</th>\n",
              "      <th>Name</th>\n",
              "      <th>Type 1</th>\n",
              "      <th>Type 2</th>\n",
              "      <th>HP</th>\n",
              "      <th>Attack</th>\n",
              "      <th>Defense</th>\n",
              "      <th>Sp. Atk</th>\n",
              "      <th>Sp. Def</th>\n",
              "      <th>Speed</th>\n",
              "      <th>Generation</th>\n",
              "      <th>Legendary</th>\n",
              "      <th>Total</th>\n",
              "    </tr>\n",
              "  </thead>\n",
              "  <tbody>\n",
              "    <tr>\n",
              "      <th>0</th>\n",
              "      <td>1</td>\n",
              "      <td>Bulbasaur</td>\n",
              "      <td>Grass</td>\n",
              "      <td>Poison</td>\n",
              "      <td>45</td>\n",
              "      <td>49</td>\n",
              "      <td>49</td>\n",
              "      <td>65</td>\n",
              "      <td>65</td>\n",
              "      <td>45</td>\n",
              "      <td>1</td>\n",
              "      <td>False</td>\n",
              "      <td>94</td>\n",
              "    </tr>\n",
              "    <tr>\n",
              "      <th>1</th>\n",
              "      <td>2</td>\n",
              "      <td>Ivysaur</td>\n",
              "      <td>Grass</td>\n",
              "      <td>Poison</td>\n",
              "      <td>60</td>\n",
              "      <td>62</td>\n",
              "      <td>63</td>\n",
              "      <td>80</td>\n",
              "      <td>80</td>\n",
              "      <td>60</td>\n",
              "      <td>1</td>\n",
              "      <td>False</td>\n",
              "      <td>122</td>\n",
              "    </tr>\n",
              "    <tr>\n",
              "      <th>2</th>\n",
              "      <td>3</td>\n",
              "      <td>Venusaur</td>\n",
              "      <td>Grass</td>\n",
              "      <td>Poison</td>\n",
              "      <td>80</td>\n",
              "      <td>82</td>\n",
              "      <td>83</td>\n",
              "      <td>100</td>\n",
              "      <td>100</td>\n",
              "      <td>80</td>\n",
              "      <td>1</td>\n",
              "      <td>False</td>\n",
              "      <td>162</td>\n",
              "    </tr>\n",
              "    <tr>\n",
              "      <th>3</th>\n",
              "      <td>3</td>\n",
              "      <td>VenusaurMega Venusaur</td>\n",
              "      <td>Grass</td>\n",
              "      <td>Poison</td>\n",
              "      <td>80</td>\n",
              "      <td>100</td>\n",
              "      <td>123</td>\n",
              "      <td>122</td>\n",
              "      <td>120</td>\n",
              "      <td>80</td>\n",
              "      <td>1</td>\n",
              "      <td>False</td>\n",
              "      <td>180</td>\n",
              "    </tr>\n",
              "    <tr>\n",
              "      <th>4</th>\n",
              "      <td>4</td>\n",
              "      <td>Charmander</td>\n",
              "      <td>Fire</td>\n",
              "      <td>NaN</td>\n",
              "      <td>39</td>\n",
              "      <td>52</td>\n",
              "      <td>43</td>\n",
              "      <td>60</td>\n",
              "      <td>50</td>\n",
              "      <td>65</td>\n",
              "      <td>1</td>\n",
              "      <td>False</td>\n",
              "      <td>91</td>\n",
              "    </tr>\n",
              "    <tr>\n",
              "      <th>...</th>\n",
              "      <td>...</td>\n",
              "      <td>...</td>\n",
              "      <td>...</td>\n",
              "      <td>...</td>\n",
              "      <td>...</td>\n",
              "      <td>...</td>\n",
              "      <td>...</td>\n",
              "      <td>...</td>\n",
              "      <td>...</td>\n",
              "      <td>...</td>\n",
              "      <td>...</td>\n",
              "      <td>...</td>\n",
              "      <td>...</td>\n",
              "    </tr>\n",
              "    <tr>\n",
              "      <th>795</th>\n",
              "      <td>719</td>\n",
              "      <td>Diancie</td>\n",
              "      <td>Rock</td>\n",
              "      <td>Fairy</td>\n",
              "      <td>50</td>\n",
              "      <td>100</td>\n",
              "      <td>150</td>\n",
              "      <td>100</td>\n",
              "      <td>150</td>\n",
              "      <td>50</td>\n",
              "      <td>6</td>\n",
              "      <td>True</td>\n",
              "      <td>150</td>\n",
              "    </tr>\n",
              "    <tr>\n",
              "      <th>796</th>\n",
              "      <td>719</td>\n",
              "      <td>DiancieMega Diancie</td>\n",
              "      <td>Rock</td>\n",
              "      <td>Fairy</td>\n",
              "      <td>50</td>\n",
              "      <td>160</td>\n",
              "      <td>110</td>\n",
              "      <td>160</td>\n",
              "      <td>110</td>\n",
              "      <td>110</td>\n",
              "      <td>6</td>\n",
              "      <td>True</td>\n",
              "      <td>210</td>\n",
              "    </tr>\n",
              "    <tr>\n",
              "      <th>797</th>\n",
              "      <td>720</td>\n",
              "      <td>HoopaHoopa Confined</td>\n",
              "      <td>Psychic</td>\n",
              "      <td>Ghost</td>\n",
              "      <td>80</td>\n",
              "      <td>110</td>\n",
              "      <td>60</td>\n",
              "      <td>150</td>\n",
              "      <td>130</td>\n",
              "      <td>70</td>\n",
              "      <td>6</td>\n",
              "      <td>True</td>\n",
              "      <td>190</td>\n",
              "    </tr>\n",
              "    <tr>\n",
              "      <th>798</th>\n",
              "      <td>720</td>\n",
              "      <td>HoopaHoopa Unbound</td>\n",
              "      <td>Psychic</td>\n",
              "      <td>Dark</td>\n",
              "      <td>80</td>\n",
              "      <td>160</td>\n",
              "      <td>60</td>\n",
              "      <td>170</td>\n",
              "      <td>130</td>\n",
              "      <td>80</td>\n",
              "      <td>6</td>\n",
              "      <td>True</td>\n",
              "      <td>240</td>\n",
              "    </tr>\n",
              "    <tr>\n",
              "      <th>799</th>\n",
              "      <td>721</td>\n",
              "      <td>Volcanion</td>\n",
              "      <td>Fire</td>\n",
              "      <td>Water</td>\n",
              "      <td>80</td>\n",
              "      <td>110</td>\n",
              "      <td>120</td>\n",
              "      <td>130</td>\n",
              "      <td>90</td>\n",
              "      <td>70</td>\n",
              "      <td>6</td>\n",
              "      <td>True</td>\n",
              "      <td>190</td>\n",
              "    </tr>\n",
              "  </tbody>\n",
              "</table>\n",
              "<p>800 rows × 13 columns</p>\n",
              "</div>"
            ],
            "text/plain": [
              "       #                   Name   Type 1  ... Generation  Legendary  Total\n",
              "0      1              Bulbasaur    Grass  ...          1      False     94\n",
              "1      2                Ivysaur    Grass  ...          1      False    122\n",
              "2      3               Venusaur    Grass  ...          1      False    162\n",
              "3      3  VenusaurMega Venusaur    Grass  ...          1      False    180\n",
              "4      4             Charmander     Fire  ...          1      False     91\n",
              "..   ...                    ...      ...  ...        ...        ...    ...\n",
              "795  719                Diancie     Rock  ...          6       True    150\n",
              "796  719    DiancieMega Diancie     Rock  ...          6       True    210\n",
              "797  720    HoopaHoopa Confined  Psychic  ...          6       True    190\n",
              "798  720     HoopaHoopa Unbound  Psychic  ...          6       True    240\n",
              "799  721              Volcanion     Fire  ...          6       True    190\n",
              "\n",
              "[800 rows x 13 columns]"
            ]
          },
          "metadata": {
            "tags": []
          },
          "execution_count": 170
        }
      ]
    },
    {
      "cell_type": "code",
      "metadata": {
        "id": "YBdNd_BSypF0",
        "colab_type": "code",
        "outputId": "59e89fc6-636d-4a84-cf9e-89a327751aab",
        "colab": {
          "base_uri": "https://localhost:8080/",
          "height": 522
        }
      },
      "source": [
        "df.drop(columns = ['Total'])"
      ],
      "execution_count": 0,
      "outputs": [
        {
          "output_type": "execute_result",
          "data": {
            "text/html": [
              "<div>\n",
              "<style scoped>\n",
              "    .dataframe tbody tr th:only-of-type {\n",
              "        vertical-align: middle;\n",
              "    }\n",
              "\n",
              "    .dataframe tbody tr th {\n",
              "        vertical-align: top;\n",
              "    }\n",
              "\n",
              "    .dataframe thead th {\n",
              "        text-align: right;\n",
              "    }\n",
              "</style>\n",
              "<table border=\"1\" class=\"dataframe\">\n",
              "  <thead>\n",
              "    <tr style=\"text-align: right;\">\n",
              "      <th></th>\n",
              "      <th>#</th>\n",
              "      <th>Name</th>\n",
              "      <th>Type 1</th>\n",
              "      <th>Type 2</th>\n",
              "      <th>HP</th>\n",
              "      <th>Attack</th>\n",
              "      <th>Defense</th>\n",
              "      <th>Sp. Atk</th>\n",
              "      <th>Sp. Def</th>\n",
              "      <th>Speed</th>\n",
              "      <th>Generation</th>\n",
              "      <th>Legendary</th>\n",
              "    </tr>\n",
              "  </thead>\n",
              "  <tbody>\n",
              "    <tr>\n",
              "      <th>0</th>\n",
              "      <td>1</td>\n",
              "      <td>Bulbasaur</td>\n",
              "      <td>Grass</td>\n",
              "      <td>Poison</td>\n",
              "      <td>45</td>\n",
              "      <td>49</td>\n",
              "      <td>49</td>\n",
              "      <td>65</td>\n",
              "      <td>65</td>\n",
              "      <td>45</td>\n",
              "      <td>1</td>\n",
              "      <td>False</td>\n",
              "    </tr>\n",
              "    <tr>\n",
              "      <th>1</th>\n",
              "      <td>2</td>\n",
              "      <td>Ivysaur</td>\n",
              "      <td>Grass</td>\n",
              "      <td>Poison</td>\n",
              "      <td>60</td>\n",
              "      <td>62</td>\n",
              "      <td>63</td>\n",
              "      <td>80</td>\n",
              "      <td>80</td>\n",
              "      <td>60</td>\n",
              "      <td>1</td>\n",
              "      <td>False</td>\n",
              "    </tr>\n",
              "    <tr>\n",
              "      <th>2</th>\n",
              "      <td>3</td>\n",
              "      <td>Venusaur</td>\n",
              "      <td>Grass</td>\n",
              "      <td>Poison</td>\n",
              "      <td>80</td>\n",
              "      <td>82</td>\n",
              "      <td>83</td>\n",
              "      <td>100</td>\n",
              "      <td>100</td>\n",
              "      <td>80</td>\n",
              "      <td>1</td>\n",
              "      <td>False</td>\n",
              "    </tr>\n",
              "    <tr>\n",
              "      <th>3</th>\n",
              "      <td>3</td>\n",
              "      <td>VenusaurMega Venusaur</td>\n",
              "      <td>Grass</td>\n",
              "      <td>Poison</td>\n",
              "      <td>80</td>\n",
              "      <td>100</td>\n",
              "      <td>123</td>\n",
              "      <td>122</td>\n",
              "      <td>120</td>\n",
              "      <td>80</td>\n",
              "      <td>1</td>\n",
              "      <td>False</td>\n",
              "    </tr>\n",
              "    <tr>\n",
              "      <th>4</th>\n",
              "      <td>4</td>\n",
              "      <td>Charmander</td>\n",
              "      <td>Fire</td>\n",
              "      <td>NaN</td>\n",
              "      <td>39</td>\n",
              "      <td>52</td>\n",
              "      <td>43</td>\n",
              "      <td>60</td>\n",
              "      <td>50</td>\n",
              "      <td>65</td>\n",
              "      <td>1</td>\n",
              "      <td>False</td>\n",
              "    </tr>\n",
              "    <tr>\n",
              "      <th>...</th>\n",
              "      <td>...</td>\n",
              "      <td>...</td>\n",
              "      <td>...</td>\n",
              "      <td>...</td>\n",
              "      <td>...</td>\n",
              "      <td>...</td>\n",
              "      <td>...</td>\n",
              "      <td>...</td>\n",
              "      <td>...</td>\n",
              "      <td>...</td>\n",
              "      <td>...</td>\n",
              "      <td>...</td>\n",
              "    </tr>\n",
              "    <tr>\n",
              "      <th>795</th>\n",
              "      <td>719</td>\n",
              "      <td>Diancie</td>\n",
              "      <td>Rock</td>\n",
              "      <td>Fairy</td>\n",
              "      <td>50</td>\n",
              "      <td>100</td>\n",
              "      <td>150</td>\n",
              "      <td>100</td>\n",
              "      <td>150</td>\n",
              "      <td>50</td>\n",
              "      <td>6</td>\n",
              "      <td>True</td>\n",
              "    </tr>\n",
              "    <tr>\n",
              "      <th>796</th>\n",
              "      <td>719</td>\n",
              "      <td>DiancieMega Diancie</td>\n",
              "      <td>Rock</td>\n",
              "      <td>Fairy</td>\n",
              "      <td>50</td>\n",
              "      <td>160</td>\n",
              "      <td>110</td>\n",
              "      <td>160</td>\n",
              "      <td>110</td>\n",
              "      <td>110</td>\n",
              "      <td>6</td>\n",
              "      <td>True</td>\n",
              "    </tr>\n",
              "    <tr>\n",
              "      <th>797</th>\n",
              "      <td>720</td>\n",
              "      <td>HoopaHoopa Confined</td>\n",
              "      <td>Psychic</td>\n",
              "      <td>Ghost</td>\n",
              "      <td>80</td>\n",
              "      <td>110</td>\n",
              "      <td>60</td>\n",
              "      <td>150</td>\n",
              "      <td>130</td>\n",
              "      <td>70</td>\n",
              "      <td>6</td>\n",
              "      <td>True</td>\n",
              "    </tr>\n",
              "    <tr>\n",
              "      <th>798</th>\n",
              "      <td>720</td>\n",
              "      <td>HoopaHoopa Unbound</td>\n",
              "      <td>Psychic</td>\n",
              "      <td>Dark</td>\n",
              "      <td>80</td>\n",
              "      <td>160</td>\n",
              "      <td>60</td>\n",
              "      <td>170</td>\n",
              "      <td>130</td>\n",
              "      <td>80</td>\n",
              "      <td>6</td>\n",
              "      <td>True</td>\n",
              "    </tr>\n",
              "    <tr>\n",
              "      <th>799</th>\n",
              "      <td>721</td>\n",
              "      <td>Volcanion</td>\n",
              "      <td>Fire</td>\n",
              "      <td>Water</td>\n",
              "      <td>80</td>\n",
              "      <td>110</td>\n",
              "      <td>120</td>\n",
              "      <td>130</td>\n",
              "      <td>90</td>\n",
              "      <td>70</td>\n",
              "      <td>6</td>\n",
              "      <td>True</td>\n",
              "    </tr>\n",
              "  </tbody>\n",
              "</table>\n",
              "<p>800 rows × 12 columns</p>\n",
              "</div>"
            ],
            "text/plain": [
              "       #                   Name   Type 1  ... Speed  Generation  Legendary\n",
              "0      1              Bulbasaur    Grass  ...    45           1      False\n",
              "1      2                Ivysaur    Grass  ...    60           1      False\n",
              "2      3               Venusaur    Grass  ...    80           1      False\n",
              "3      3  VenusaurMega Venusaur    Grass  ...    80           1      False\n",
              "4      4             Charmander     Fire  ...    65           1      False\n",
              "..   ...                    ...      ...  ...   ...         ...        ...\n",
              "795  719                Diancie     Rock  ...    50           6       True\n",
              "796  719    DiancieMega Diancie     Rock  ...   110           6       True\n",
              "797  720    HoopaHoopa Confined  Psychic  ...    70           6       True\n",
              "798  720     HoopaHoopa Unbound  Psychic  ...    80           6       True\n",
              "799  721              Volcanion     Fire  ...    70           6       True\n",
              "\n",
              "[800 rows x 12 columns]"
            ]
          },
          "metadata": {
            "tags": []
          },
          "execution_count": 187
        }
      ]
    },
    {
      "cell_type": "code",
      "metadata": {
        "id": "4DBzx8zkz1ed",
        "colab_type": "code",
        "outputId": "8898bb48-1c87-4bf2-fd9f-ae2f13d6b074",
        "colab": {
          "base_uri": "https://localhost:8080/",
          "height": 786
        }
      },
      "source": [
        "df.head(20)"
      ],
      "execution_count": 0,
      "outputs": [
        {
          "output_type": "execute_result",
          "data": {
            "text/html": [
              "<div>\n",
              "<style scoped>\n",
              "    .dataframe tbody tr th:only-of-type {\n",
              "        vertical-align: middle;\n",
              "    }\n",
              "\n",
              "    .dataframe tbody tr th {\n",
              "        vertical-align: top;\n",
              "    }\n",
              "\n",
              "    .dataframe thead th {\n",
              "        text-align: right;\n",
              "    }\n",
              "</style>\n",
              "<table border=\"1\" class=\"dataframe\">\n",
              "  <thead>\n",
              "    <tr style=\"text-align: right;\">\n",
              "      <th></th>\n",
              "      <th>#</th>\n",
              "      <th>Name</th>\n",
              "      <th>Type 1</th>\n",
              "      <th>Type 2</th>\n",
              "      <th>HP</th>\n",
              "      <th>Attack</th>\n",
              "      <th>Defense</th>\n",
              "      <th>Sp. Atk</th>\n",
              "      <th>Sp. Def</th>\n",
              "      <th>Speed</th>\n",
              "      <th>Generation</th>\n",
              "      <th>Legendary</th>\n",
              "      <th>Total</th>\n",
              "    </tr>\n",
              "  </thead>\n",
              "  <tbody>\n",
              "    <tr>\n",
              "      <th>0</th>\n",
              "      <td>1</td>\n",
              "      <td>Bulbasaur</td>\n",
              "      <td>Grass</td>\n",
              "      <td>Poison</td>\n",
              "      <td>45</td>\n",
              "      <td>49</td>\n",
              "      <td>49</td>\n",
              "      <td>65</td>\n",
              "      <td>65</td>\n",
              "      <td>45</td>\n",
              "      <td>1</td>\n",
              "      <td>False</td>\n",
              "      <td>94</td>\n",
              "    </tr>\n",
              "    <tr>\n",
              "      <th>1</th>\n",
              "      <td>2</td>\n",
              "      <td>Ivysaur</td>\n",
              "      <td>Grass</td>\n",
              "      <td>Poison</td>\n",
              "      <td>60</td>\n",
              "      <td>62</td>\n",
              "      <td>63</td>\n",
              "      <td>80</td>\n",
              "      <td>80</td>\n",
              "      <td>60</td>\n",
              "      <td>1</td>\n",
              "      <td>False</td>\n",
              "      <td>122</td>\n",
              "    </tr>\n",
              "    <tr>\n",
              "      <th>2</th>\n",
              "      <td>3</td>\n",
              "      <td>Venusaur</td>\n",
              "      <td>Grass</td>\n",
              "      <td>Poison</td>\n",
              "      <td>80</td>\n",
              "      <td>82</td>\n",
              "      <td>83</td>\n",
              "      <td>100</td>\n",
              "      <td>100</td>\n",
              "      <td>80</td>\n",
              "      <td>1</td>\n",
              "      <td>False</td>\n",
              "      <td>162</td>\n",
              "    </tr>\n",
              "    <tr>\n",
              "      <th>3</th>\n",
              "      <td>3</td>\n",
              "      <td>VenusaurMega Venusaur</td>\n",
              "      <td>Grass</td>\n",
              "      <td>Poison</td>\n",
              "      <td>80</td>\n",
              "      <td>100</td>\n",
              "      <td>123</td>\n",
              "      <td>122</td>\n",
              "      <td>120</td>\n",
              "      <td>80</td>\n",
              "      <td>1</td>\n",
              "      <td>False</td>\n",
              "      <td>180</td>\n",
              "    </tr>\n",
              "    <tr>\n",
              "      <th>4</th>\n",
              "      <td>4</td>\n",
              "      <td>Charmander</td>\n",
              "      <td>Fire</td>\n",
              "      <td>NaN</td>\n",
              "      <td>39</td>\n",
              "      <td>52</td>\n",
              "      <td>43</td>\n",
              "      <td>60</td>\n",
              "      <td>50</td>\n",
              "      <td>65</td>\n",
              "      <td>1</td>\n",
              "      <td>False</td>\n",
              "      <td>91</td>\n",
              "    </tr>\n",
              "    <tr>\n",
              "      <th>5</th>\n",
              "      <td>5</td>\n",
              "      <td>Charmeleon</td>\n",
              "      <td>Fire</td>\n",
              "      <td>NaN</td>\n",
              "      <td>58</td>\n",
              "      <td>64</td>\n",
              "      <td>58</td>\n",
              "      <td>80</td>\n",
              "      <td>65</td>\n",
              "      <td>80</td>\n",
              "      <td>1</td>\n",
              "      <td>False</td>\n",
              "      <td>122</td>\n",
              "    </tr>\n",
              "    <tr>\n",
              "      <th>6</th>\n",
              "      <td>6</td>\n",
              "      <td>Charizard</td>\n",
              "      <td>Fire</td>\n",
              "      <td>Flying</td>\n",
              "      <td>78</td>\n",
              "      <td>84</td>\n",
              "      <td>78</td>\n",
              "      <td>109</td>\n",
              "      <td>85</td>\n",
              "      <td>100</td>\n",
              "      <td>1</td>\n",
              "      <td>False</td>\n",
              "      <td>162</td>\n",
              "    </tr>\n",
              "    <tr>\n",
              "      <th>7</th>\n",
              "      <td>6</td>\n",
              "      <td>CharizardMega Charizard X</td>\n",
              "      <td>Fire</td>\n",
              "      <td>Dragon</td>\n",
              "      <td>78</td>\n",
              "      <td>130</td>\n",
              "      <td>111</td>\n",
              "      <td>130</td>\n",
              "      <td>85</td>\n",
              "      <td>100</td>\n",
              "      <td>1</td>\n",
              "      <td>False</td>\n",
              "      <td>208</td>\n",
              "    </tr>\n",
              "    <tr>\n",
              "      <th>8</th>\n",
              "      <td>6</td>\n",
              "      <td>CharizardMega Charizard Y</td>\n",
              "      <td>Fire</td>\n",
              "      <td>Flying</td>\n",
              "      <td>78</td>\n",
              "      <td>104</td>\n",
              "      <td>78</td>\n",
              "      <td>159</td>\n",
              "      <td>115</td>\n",
              "      <td>100</td>\n",
              "      <td>1</td>\n",
              "      <td>False</td>\n",
              "      <td>182</td>\n",
              "    </tr>\n",
              "    <tr>\n",
              "      <th>9</th>\n",
              "      <td>7</td>\n",
              "      <td>Squirtle</td>\n",
              "      <td>Water</td>\n",
              "      <td>NaN</td>\n",
              "      <td>44</td>\n",
              "      <td>48</td>\n",
              "      <td>65</td>\n",
              "      <td>50</td>\n",
              "      <td>64</td>\n",
              "      <td>43</td>\n",
              "      <td>1</td>\n",
              "      <td>False</td>\n",
              "      <td>92</td>\n",
              "    </tr>\n",
              "    <tr>\n",
              "      <th>10</th>\n",
              "      <td>8</td>\n",
              "      <td>Wartortle</td>\n",
              "      <td>Water</td>\n",
              "      <td>NaN</td>\n",
              "      <td>59</td>\n",
              "      <td>63</td>\n",
              "      <td>80</td>\n",
              "      <td>65</td>\n",
              "      <td>80</td>\n",
              "      <td>58</td>\n",
              "      <td>1</td>\n",
              "      <td>False</td>\n",
              "      <td>122</td>\n",
              "    </tr>\n",
              "    <tr>\n",
              "      <th>11</th>\n",
              "      <td>9</td>\n",
              "      <td>Blastoise</td>\n",
              "      <td>Water</td>\n",
              "      <td>NaN</td>\n",
              "      <td>79</td>\n",
              "      <td>83</td>\n",
              "      <td>100</td>\n",
              "      <td>85</td>\n",
              "      <td>105</td>\n",
              "      <td>78</td>\n",
              "      <td>1</td>\n",
              "      <td>False</td>\n",
              "      <td>162</td>\n",
              "    </tr>\n",
              "    <tr>\n",
              "      <th>12</th>\n",
              "      <td>9</td>\n",
              "      <td>BlastoiseMega Blastoise</td>\n",
              "      <td>Water</td>\n",
              "      <td>NaN</td>\n",
              "      <td>79</td>\n",
              "      <td>103</td>\n",
              "      <td>120</td>\n",
              "      <td>135</td>\n",
              "      <td>115</td>\n",
              "      <td>78</td>\n",
              "      <td>1</td>\n",
              "      <td>False</td>\n",
              "      <td>182</td>\n",
              "    </tr>\n",
              "    <tr>\n",
              "      <th>13</th>\n",
              "      <td>10</td>\n",
              "      <td>Caterpie</td>\n",
              "      <td>Bug</td>\n",
              "      <td>NaN</td>\n",
              "      <td>45</td>\n",
              "      <td>30</td>\n",
              "      <td>35</td>\n",
              "      <td>20</td>\n",
              "      <td>20</td>\n",
              "      <td>45</td>\n",
              "      <td>1</td>\n",
              "      <td>False</td>\n",
              "      <td>75</td>\n",
              "    </tr>\n",
              "    <tr>\n",
              "      <th>14</th>\n",
              "      <td>11</td>\n",
              "      <td>Metapod</td>\n",
              "      <td>Bug</td>\n",
              "      <td>NaN</td>\n",
              "      <td>50</td>\n",
              "      <td>20</td>\n",
              "      <td>55</td>\n",
              "      <td>25</td>\n",
              "      <td>25</td>\n",
              "      <td>30</td>\n",
              "      <td>1</td>\n",
              "      <td>False</td>\n",
              "      <td>70</td>\n",
              "    </tr>\n",
              "    <tr>\n",
              "      <th>15</th>\n",
              "      <td>12</td>\n",
              "      <td>Butterfree</td>\n",
              "      <td>Bug</td>\n",
              "      <td>Flying</td>\n",
              "      <td>60</td>\n",
              "      <td>45</td>\n",
              "      <td>50</td>\n",
              "      <td>90</td>\n",
              "      <td>80</td>\n",
              "      <td>70</td>\n",
              "      <td>1</td>\n",
              "      <td>False</td>\n",
              "      <td>105</td>\n",
              "    </tr>\n",
              "    <tr>\n",
              "      <th>16</th>\n",
              "      <td>13</td>\n",
              "      <td>Weedle</td>\n",
              "      <td>Bug</td>\n",
              "      <td>Poison</td>\n",
              "      <td>40</td>\n",
              "      <td>35</td>\n",
              "      <td>30</td>\n",
              "      <td>20</td>\n",
              "      <td>20</td>\n",
              "      <td>50</td>\n",
              "      <td>1</td>\n",
              "      <td>False</td>\n",
              "      <td>75</td>\n",
              "    </tr>\n",
              "    <tr>\n",
              "      <th>17</th>\n",
              "      <td>14</td>\n",
              "      <td>Kakuna</td>\n",
              "      <td>Bug</td>\n",
              "      <td>Poison</td>\n",
              "      <td>45</td>\n",
              "      <td>25</td>\n",
              "      <td>50</td>\n",
              "      <td>25</td>\n",
              "      <td>25</td>\n",
              "      <td>35</td>\n",
              "      <td>1</td>\n",
              "      <td>False</td>\n",
              "      <td>70</td>\n",
              "    </tr>\n",
              "    <tr>\n",
              "      <th>18</th>\n",
              "      <td>15</td>\n",
              "      <td>Beedrill</td>\n",
              "      <td>Bug</td>\n",
              "      <td>Poison</td>\n",
              "      <td>65</td>\n",
              "      <td>90</td>\n",
              "      <td>40</td>\n",
              "      <td>45</td>\n",
              "      <td>80</td>\n",
              "      <td>75</td>\n",
              "      <td>1</td>\n",
              "      <td>False</td>\n",
              "      <td>155</td>\n",
              "    </tr>\n",
              "    <tr>\n",
              "      <th>19</th>\n",
              "      <td>15</td>\n",
              "      <td>BeedrillMega Beedrill</td>\n",
              "      <td>Bug</td>\n",
              "      <td>Poison</td>\n",
              "      <td>65</td>\n",
              "      <td>150</td>\n",
              "      <td>40</td>\n",
              "      <td>15</td>\n",
              "      <td>80</td>\n",
              "      <td>145</td>\n",
              "      <td>1</td>\n",
              "      <td>False</td>\n",
              "      <td>215</td>\n",
              "    </tr>\n",
              "  </tbody>\n",
              "</table>\n",
              "</div>"
            ],
            "text/plain": [
              "     #                       Name Type 1  ... Generation  Legendary  Total\n",
              "0    1                  Bulbasaur  Grass  ...          1      False     94\n",
              "1    2                    Ivysaur  Grass  ...          1      False    122\n",
              "2    3                   Venusaur  Grass  ...          1      False    162\n",
              "3    3      VenusaurMega Venusaur  Grass  ...          1      False    180\n",
              "4    4                 Charmander   Fire  ...          1      False     91\n",
              "5    5                 Charmeleon   Fire  ...          1      False    122\n",
              "6    6                  Charizard   Fire  ...          1      False    162\n",
              "7    6  CharizardMega Charizard X   Fire  ...          1      False    208\n",
              "8    6  CharizardMega Charizard Y   Fire  ...          1      False    182\n",
              "9    7                   Squirtle  Water  ...          1      False     92\n",
              "10   8                  Wartortle  Water  ...          1      False    122\n",
              "11   9                  Blastoise  Water  ...          1      False    162\n",
              "12   9    BlastoiseMega Blastoise  Water  ...          1      False    182\n",
              "13  10                   Caterpie    Bug  ...          1      False     75\n",
              "14  11                    Metapod    Bug  ...          1      False     70\n",
              "15  12                 Butterfree    Bug  ...          1      False    105\n",
              "16  13                     Weedle    Bug  ...          1      False     75\n",
              "17  14                     Kakuna    Bug  ...          1      False     70\n",
              "18  15                   Beedrill    Bug  ...          1      False    155\n",
              "19  15      BeedrillMega Beedrill    Bug  ...          1      False    215\n",
              "\n",
              "[20 rows x 13 columns]"
            ]
          },
          "metadata": {
            "tags": []
          },
          "execution_count": 188
        }
      ]
    },
    {
      "cell_type": "code",
      "metadata": {
        "id": "vRrtmDlCy5vm",
        "colab_type": "code",
        "colab": {}
      },
      "source": [
        "df.to_csv('modified.csv', index = True)"
      ],
      "execution_count": 0,
      "outputs": []
    },
    {
      "cell_type": "code",
      "metadata": {
        "id": "bXXHnvrJy6V_",
        "colab_type": "code",
        "outputId": "05c77daf-f667-4c2f-e623-ee8790ff1261",
        "colab": {
          "base_uri": "https://localhost:8080/",
          "height": 52
        }
      },
      "source": [
        "ls"
      ],
      "execution_count": 0,
      "outputs": [
        {
          "output_type": "stream",
          "text": [
            "abc.txt        modified.csv      pokemon_data.txt\n",
            "modified1.csv  pokemon_data.csv  \u001b[0m\u001b[01;34msample_data\u001b[0m/\n"
          ],
          "name": "stdout"
        }
      ]
    },
    {
      "cell_type": "code",
      "metadata": {
        "id": "6EGyi-4FzuqG",
        "colab_type": "code",
        "colab": {}
      },
      "source": [
        "new_df = df.loc[(df['Type 1'] == 'Grass') & (df['Type 2'] == 'Poison') & (df['HP'] > 70)]"
      ],
      "execution_count": 0,
      "outputs": []
    },
    {
      "cell_type": "code",
      "metadata": {
        "id": "Kp_xTyUz8FTm",
        "colab_type": "code",
        "outputId": "ae71a882-ce80-4e9c-bffc-c558217154bb",
        "colab": {
          "base_uri": "https://localhost:8080/",
          "height": 257
        }
      },
      "source": [
        "new_df"
      ],
      "execution_count": 0,
      "outputs": [
        {
          "output_type": "execute_result",
          "data": {
            "text/html": [
              "<div>\n",
              "<style scoped>\n",
              "    .dataframe tbody tr th:only-of-type {\n",
              "        vertical-align: middle;\n",
              "    }\n",
              "\n",
              "    .dataframe tbody tr th {\n",
              "        vertical-align: top;\n",
              "    }\n",
              "\n",
              "    .dataframe thead th {\n",
              "        text-align: right;\n",
              "    }\n",
              "</style>\n",
              "<table border=\"1\" class=\"dataframe\">\n",
              "  <thead>\n",
              "    <tr style=\"text-align: right;\">\n",
              "      <th></th>\n",
              "      <th>#</th>\n",
              "      <th>Name</th>\n",
              "      <th>Type 1</th>\n",
              "      <th>Type 2</th>\n",
              "      <th>HP</th>\n",
              "      <th>Attack</th>\n",
              "      <th>Defense</th>\n",
              "      <th>Sp. Atk</th>\n",
              "      <th>Sp. Def</th>\n",
              "      <th>Speed</th>\n",
              "      <th>Generation</th>\n",
              "      <th>Legendary</th>\n",
              "      <th>Total</th>\n",
              "    </tr>\n",
              "  </thead>\n",
              "  <tbody>\n",
              "    <tr>\n",
              "      <th>0</th>\n",
              "      <td>3</td>\n",
              "      <td>Venusaur</td>\n",
              "      <td>Grass</td>\n",
              "      <td>Poison</td>\n",
              "      <td>80</td>\n",
              "      <td>82</td>\n",
              "      <td>83</td>\n",
              "      <td>100</td>\n",
              "      <td>100</td>\n",
              "      <td>80</td>\n",
              "      <td>1</td>\n",
              "      <td>False</td>\n",
              "      <td>162</td>\n",
              "    </tr>\n",
              "    <tr>\n",
              "      <th>1</th>\n",
              "      <td>3</td>\n",
              "      <td>VenusaurMega Venusaur</td>\n",
              "      <td>Grass</td>\n",
              "      <td>Poison</td>\n",
              "      <td>80</td>\n",
              "      <td>100</td>\n",
              "      <td>123</td>\n",
              "      <td>122</td>\n",
              "      <td>120</td>\n",
              "      <td>80</td>\n",
              "      <td>1</td>\n",
              "      <td>False</td>\n",
              "      <td>180</td>\n",
              "    </tr>\n",
              "    <tr>\n",
              "      <th>2</th>\n",
              "      <td>45</td>\n",
              "      <td>Vileplume</td>\n",
              "      <td>Grass</td>\n",
              "      <td>Poison</td>\n",
              "      <td>75</td>\n",
              "      <td>80</td>\n",
              "      <td>85</td>\n",
              "      <td>110</td>\n",
              "      <td>90</td>\n",
              "      <td>50</td>\n",
              "      <td>1</td>\n",
              "      <td>False</td>\n",
              "      <td>155</td>\n",
              "    </tr>\n",
              "    <tr>\n",
              "      <th>3</th>\n",
              "      <td>71</td>\n",
              "      <td>Victreebel</td>\n",
              "      <td>Grass</td>\n",
              "      <td>Poison</td>\n",
              "      <td>80</td>\n",
              "      <td>105</td>\n",
              "      <td>65</td>\n",
              "      <td>100</td>\n",
              "      <td>70</td>\n",
              "      <td>70</td>\n",
              "      <td>1</td>\n",
              "      <td>False</td>\n",
              "      <td>185</td>\n",
              "    </tr>\n",
              "    <tr>\n",
              "      <th>4</th>\n",
              "      <td>591</td>\n",
              "      <td>Amoonguss</td>\n",
              "      <td>Grass</td>\n",
              "      <td>Poison</td>\n",
              "      <td>114</td>\n",
              "      <td>85</td>\n",
              "      <td>70</td>\n",
              "      <td>85</td>\n",
              "      <td>80</td>\n",
              "      <td>30</td>\n",
              "      <td>5</td>\n",
              "      <td>False</td>\n",
              "      <td>199</td>\n",
              "    </tr>\n",
              "  </tbody>\n",
              "</table>\n",
              "</div>"
            ],
            "text/plain": [
              "     #                   Name Type 1  ... Generation  Legendary  Total\n",
              "0    3               Venusaur  Grass  ...          1      False    162\n",
              "1    3  VenusaurMega Venusaur  Grass  ...          1      False    180\n",
              "2   45              Vileplume  Grass  ...          1      False    155\n",
              "3   71             Victreebel  Grass  ...          1      False    185\n",
              "4  591              Amoonguss  Grass  ...          5      False    199\n",
              "\n",
              "[5 rows x 13 columns]"
            ]
          },
          "metadata": {
            "tags": []
          },
          "execution_count": 183
        }
      ]
    },
    {
      "cell_type": "code",
      "metadata": {
        "id": "NwYPnwxQ0r5j",
        "colab_type": "code",
        "colab": {}
      },
      "source": [
        "new_df.reset_index(drop = True, inplace = True)"
      ],
      "execution_count": 0,
      "outputs": []
    },
    {
      "cell_type": "code",
      "metadata": {
        "id": "kjCSvkWZ01wk",
        "colab_type": "code",
        "colab": {}
      },
      "source": [
        "new_df.to_csv('modified1.csv', index = 'True')"
      ],
      "execution_count": 0,
      "outputs": []
    },
    {
      "cell_type": "code",
      "metadata": {
        "id": "LnGUzt1k8J9k",
        "colab_type": "code",
        "outputId": "1e1b4726-b8ea-4d6c-c4ef-5e5bfe5313e0",
        "colab": {
          "base_uri": "https://localhost:8080/",
          "height": 52
        }
      },
      "source": [
        "ls"
      ],
      "execution_count": 0,
      "outputs": [
        {
          "output_type": "stream",
          "text": [
            "abc.txt        modified.csv      pokemon_data.txt\n",
            "modified1.csv  pokemon_data.csv  \u001b[0m\u001b[01;34msample_data\u001b[0m/\n"
          ],
          "name": "stdout"
        }
      ]
    },
    {
      "cell_type": "code",
      "metadata": {
        "id": "Dixt8ezl8U4d",
        "colab_type": "code",
        "colab": {}
      },
      "source": [
        ""
      ],
      "execution_count": 0,
      "outputs": []
    }
  ]
}